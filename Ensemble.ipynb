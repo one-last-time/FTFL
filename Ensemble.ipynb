{
  "nbformat": 4,
  "nbformat_minor": 0,
  "metadata": {
    "kernelspec": {
      "display_name": "Python 3",
      "language": "python",
      "name": "python3"
    },
    "language_info": {
      "codemirror_mode": {
        "name": "ipython",
        "version": 3
      },
      "file_extension": ".py",
      "mimetype": "text/x-python",
      "name": "python",
      "nbconvert_exporter": "python",
      "pygments_lexer": "ipython3",
      "version": "3.6.1"
    },
    "colab": {
      "name": "Ensemble.ipynb",
      "provenance": [],
      "include_colab_link": true
    }
  },
  "cells": [
    {
      "cell_type": "markdown",
      "metadata": {
        "id": "view-in-github",
        "colab_type": "text"
      },
      "source": [
        "<a href=\"https://colab.research.google.com/github/one-last-time/FTFL/blob/main/Ensemble.ipynb\" target=\"_parent\"><img src=\"https://colab.research.google.com/assets/colab-badge.svg\" alt=\"Open In Colab\"/></a>"
      ]
    },
    {
      "cell_type": "code",
      "metadata": {
        "id": "45aJPdKzFNAG"
      },
      "source": [
        "from sklearn.ensemble import RandomForestClassifier\n",
        "from sklearn.ensemble import VotingClassifier\n",
        "from sklearn.linear_model import LogisticRegression\n",
        "from sklearn.svm import SVC\n",
        "from sklearn.calibration import CalibratedClassifierCV\n"
      ],
      "execution_count": null,
      "outputs": []
    },
    {
      "cell_type": "code",
      "metadata": {
        "id": "w1YwjbCxFNAQ"
      },
      "source": [
        "log_clf = LogisticRegression()\n",
        "rnd_clf = RandomForestClassifier()\n",
        "svm_clf = CalibratedClassifierCV(SVC())"
      ],
      "execution_count": null,
      "outputs": []
    },
    {
      "cell_type": "code",
      "metadata": {
        "id": "1m497gTpFNAU"
      },
      "source": [
        "from sklearn.datasets import load_iris\n",
        "\n",
        "iris = load_iris()\n",
        "x,y=iris.data,iris.target"
      ],
      "execution_count": null,
      "outputs": []
    },
    {
      "cell_type": "code",
      "metadata": {
        "id": "kLU9Km2A5Hx8"
      },
      "source": [
        "from sklearn.model_selection import train_test_split\n",
        "X_train,X_test,y_train,y_test=train_test_split(x,y,train_size=0.5,test_size=0.5,\n",
        "                                               random_state=123)"
      ],
      "execution_count": null,
      "outputs": []
    },
    {
      "cell_type": "code",
      "metadata": {
        "id": "zU3T6GQbFNAZ",
        "colab": {
          "base_uri": "https://localhost:8080/"
        },
        "outputId": "241cf887-97d8-465b-a760-934de054256a"
      },
      "source": [
        "voting_clf = VotingClassifier(estimators=[('lr', log_clf), ('rf', rnd_clf), \n",
        "                                          ('svc', svm_clf)],voting='hard')\n",
        "voting_clf.fit(X_train, y_train)"
      ],
      "execution_count": null,
      "outputs": [
        {
          "output_type": "stream",
          "text": [
            "/usr/local/lib/python3.6/dist-packages/sklearn/linear_model/_logistic.py:940: ConvergenceWarning: lbfgs failed to converge (status=1):\n",
            "STOP: TOTAL NO. of ITERATIONS REACHED LIMIT.\n",
            "\n",
            "Increase the number of iterations (max_iter) or scale the data as shown in:\n",
            "    https://scikit-learn.org/stable/modules/preprocessing.html\n",
            "Please also refer to the documentation for alternative solver options:\n",
            "    https://scikit-learn.org/stable/modules/linear_model.html#logistic-regression\n",
            "  extra_warning_msg=_LOGISTIC_SOLVER_CONVERGENCE_MSG)\n"
          ],
          "name": "stderr"
        },
        {
          "output_type": "execute_result",
          "data": {
            "text/plain": [
              "VotingClassifier(estimators=[('lr',\n",
              "                              LogisticRegression(C=1.0, class_weight=None,\n",
              "                                                 dual=False, fit_intercept=True,\n",
              "                                                 intercept_scaling=1,\n",
              "                                                 l1_ratio=None, max_iter=100,\n",
              "                                                 multi_class='auto',\n",
              "                                                 n_jobs=None, penalty='l2',\n",
              "                                                 random_state=None,\n",
              "                                                 solver='lbfgs', tol=0.0001,\n",
              "                                                 verbose=0, warm_start=False)),\n",
              "                             ('rf',\n",
              "                              RandomForestClassifier(bootstrap=True,\n",
              "                                                     ccp_alpha=0.0,\n",
              "                                                     class_weight=None,\n",
              "                                                     cr...\n",
              "                              CalibratedClassifierCV(base_estimator=SVC(C=1.0,\n",
              "                                                                        break_ties=False,\n",
              "                                                                        cache_size=200,\n",
              "                                                                        class_weight=None,\n",
              "                                                                        coef0=0.0,\n",
              "                                                                        decision_function_shape='ovr',\n",
              "                                                                        degree=3,\n",
              "                                                                        gamma='scale',\n",
              "                                                                        kernel='rbf',\n",
              "                                                                        max_iter=-1,\n",
              "                                                                        probability=False,\n",
              "                                                                        random_state=None,\n",
              "                                                                        shrinking=True,\n",
              "                                                                        tol=0.001,\n",
              "                                                                        verbose=False),\n",
              "                                                     cv=None,\n",
              "                                                     method='sigmoid'))],\n",
              "                 flatten_transform=True, n_jobs=None, voting='hard',\n",
              "                 weights=None)"
            ]
          },
          "metadata": {
            "tags": []
          },
          "execution_count": 12
        }
      ]
    },
    {
      "cell_type": "code",
      "metadata": {
        "id": "lz9rI8ajFNAg",
        "colab": {
          "base_uri": "https://localhost:8080/"
        },
        "outputId": "58a6087c-3d7b-46b5-8d58-8ef29e67102c"
      },
      "source": [
        "from sklearn.metrics import accuracy_score\n",
        "Y_pred_vote = voting_clf.predict(X_test)\n",
        "print(accuracy_score(y_test,Y_pred_vote))\n",
        "for clf in (log_clf, rnd_clf, svm_clf, voting_clf):\n",
        "    clf.fit(X_train, y_train)\n",
        "    y_pred = clf.predict(X_test)\n",
        "    print(clf.__class__.__name__, accuracy_score(y_test, y_pred))"
      ],
      "execution_count": null,
      "outputs": [
        {
          "output_type": "stream",
          "text": [
            "0.9466666666666667\n",
            "LogisticRegression 0.9466666666666667\n",
            "RandomForestClassifier 0.96\n",
            "CalibratedClassifierCV 0.92\n"
          ],
          "name": "stdout"
        },
        {
          "output_type": "stream",
          "text": [
            "/usr/local/lib/python3.6/dist-packages/sklearn/linear_model/_logistic.py:940: ConvergenceWarning: lbfgs failed to converge (status=1):\n",
            "STOP: TOTAL NO. of ITERATIONS REACHED LIMIT.\n",
            "\n",
            "Increase the number of iterations (max_iter) or scale the data as shown in:\n",
            "    https://scikit-learn.org/stable/modules/preprocessing.html\n",
            "Please also refer to the documentation for alternative solver options:\n",
            "    https://scikit-learn.org/stable/modules/linear_model.html#logistic-regression\n",
            "  extra_warning_msg=_LOGISTIC_SOLVER_CONVERGENCE_MSG)\n",
            "/usr/local/lib/python3.6/dist-packages/sklearn/linear_model/_logistic.py:940: ConvergenceWarning: lbfgs failed to converge (status=1):\n",
            "STOP: TOTAL NO. of ITERATIONS REACHED LIMIT.\n",
            "\n",
            "Increase the number of iterations (max_iter) or scale the data as shown in:\n",
            "    https://scikit-learn.org/stable/modules/preprocessing.html\n",
            "Please also refer to the documentation for alternative solver options:\n",
            "    https://scikit-learn.org/stable/modules/linear_model.html#logistic-regression\n",
            "  extra_warning_msg=_LOGISTIC_SOLVER_CONVERGENCE_MSG)\n"
          ],
          "name": "stderr"
        },
        {
          "output_type": "stream",
          "text": [
            "VotingClassifier 0.9466666666666667\n"
          ],
          "name": "stdout"
        }
      ]
    },
    {
      "cell_type": "code",
      "metadata": {
        "id": "GV_3aIj7FNAl"
      },
      "source": [
        "from sklearn.ensemble import BaggingClassifier\n",
        "from sklearn.tree import DecisionTreeClassifier"
      ],
      "execution_count": null,
      "outputs": []
    },
    {
      "cell_type": "code",
      "metadata": {
        "id": "JqRjZo1jFNAp"
      },
      "source": [
        "bag_clf = BaggingClassifier(DecisionTreeClassifier(), n_estimators=500, \n",
        "                            max_samples=50, bootstrap=True, n_jobs=-1)\n",
        "bag_clf.fit(X_train, y_train)\n",
        "y_pred = bag_clf.predict(X_test)"
      ],
      "execution_count": null,
      "outputs": []
    },
    {
      "cell_type": "markdown",
      "metadata": {
        "id": "vOq1-0UlFNAx"
      },
      "source": [
        "#### The following code trains a Random Forest classifier with 500 trees (each limited to maximum 16 nodes), using all available CPU cores"
      ]
    },
    {
      "cell_type": "code",
      "metadata": {
        "id": "CEAx-idlFNAy"
      },
      "source": [
        "from sklearn.ensemble import RandomForestClassifier\n",
        "\n",
        "rnd_clf = RandomForestClassifier(n_estimators=500, max_leaf_nodes=16, n_jobs=-1)\n",
        "rnd_clf.fit(X_train, y_train)\n",
        "y_pred_rf = rnd_clf.predict(X_test)"
      ],
      "execution_count": null,
      "outputs": []
    },
    {
      "cell_type": "code",
      "metadata": {
        "id": "o6QAo1EKFNA2",
        "colab": {
          "base_uri": "https://localhost:8080/",
          "height": 85
        },
        "outputId": "8c24eed9-2019-4b37-c74d-68b671881b0c"
      },
      "source": [
        "from sklearn.datasets import load_iris\n",
        "iris = load_iris()\n",
        "rnd_clf = RandomForestClassifier(n_estimators=500, n_jobs=-1)\n",
        "rnd_clf.fit(iris[\"data\"], iris[\"target\"])\n",
        "\n",
        "for name, score in zip(iris[\"feature_names\"], rnd_clf.feature_importances_):\n",
        "    print(name, score)"
      ],
      "execution_count": null,
      "outputs": [
        {
          "output_type": "stream",
          "text": [
            "sepal length (cm) 0.10808351982730173\n",
            "sepal width (cm) 0.0258242147814646\n",
            "petal length (cm) 0.40392269894322547\n",
            "petal width (cm) 0.4621695664480083\n"
          ],
          "name": "stdout"
        }
      ]
    },
    {
      "cell_type": "markdown",
      "metadata": {
        "id": "DrYN2O2RFNA5"
      },
      "source": [
        "Scikit-Learn actually uses a multiclass version of AdaBoost called SAMME16 (which\n",
        "stands for Stagewise Additive Modeling using a Multiclass Exponential loss function).\n",
        "When there are just two classes, SAMME is equivalent to AdaBoost. Moreover, if the\n",
        "predictors can estimate class probabilities (i.e., if they have a predict_proba()\n",
        "method), Scikit-Learn can use a variant of SAMME called SAMME.R (the R stands\n",
        "for “Real”), which relies on class probabilities rather than predictions and generally\n",
        "performs better."
      ]
    },
    {
      "cell_type": "markdown",
      "metadata": {
        "id": "eO8_bczyFNA6"
      },
      "source": [
        "The following code trains an AdaBoost classifier based on 200 Decision Stumps using\n",
        "Scikit-Learn’s AdaBoostClassifier class (as you might expect, there is also an Ada\n",
        "BoostRegressor class). A Decision Stump is a Decision Tree with max_depth=1—in\n",
        "other words, a tree composed of a single decision node plus two leaf nodes. This is\n",
        "the default base estimator for the AdaBoostClassifier class:"
      ]
    },
    {
      "cell_type": "code",
      "metadata": {
        "id": "WPiir607FNA7",
        "colab": {
          "base_uri": "https://localhost:8080/",
          "height": 289
        },
        "outputId": "a3454794-ad27-4780-8515-528e8760ba8a"
      },
      "source": [
        "from sklearn.ensemble import AdaBoostClassifier\n",
        "ada_clf = AdaBoostClassifier(\n",
        " DecisionTreeClassifier(max_depth=1), n_estimators=200,\n",
        " algorithm=\"SAMME.R\", learning_rate=0.5)\n",
        "ada_clf.fit(X_train, y_train)"
      ],
      "execution_count": null,
      "outputs": [
        {
          "output_type": "execute_result",
          "data": {
            "text/plain": [
              "AdaBoostClassifier(algorithm='SAMME.R',\n",
              "                   base_estimator=DecisionTreeClassifier(ccp_alpha=0.0,\n",
              "                                                         class_weight=None,\n",
              "                                                         criterion='gini',\n",
              "                                                         max_depth=1,\n",
              "                                                         max_features=None,\n",
              "                                                         max_leaf_nodes=None,\n",
              "                                                         min_impurity_decrease=0.0,\n",
              "                                                         min_impurity_split=None,\n",
              "                                                         min_samples_leaf=1,\n",
              "                                                         min_samples_split=2,\n",
              "                                                         min_weight_fraction_leaf=0.0,\n",
              "                                                         presort='deprecated',\n",
              "                                                         random_state=None,\n",
              "                                                         splitter='best'),\n",
              "                   learning_rate=0.5, n_estimators=200, random_state=None)"
            ]
          },
          "metadata": {
            "tags": []
          },
          "execution_count": 16
        }
      ]
    },
    {
      "cell_type": "markdown",
      "metadata": {
        "id": "-5TA_QPFFNA_"
      },
      "source": [
        "This is called Gradient Tree Boosting, or Gradient Boosted Regression Trees (GBRT). First, let’s\n",
        "fit a DecisionTreeRegressor to the training set"
      ]
    },
    {
      "cell_type": "code",
      "metadata": {
        "id": "sfBMXuXXFNBB",
        "colab": {
          "base_uri": "https://localhost:8080/",
          "height": 119
        },
        "outputId": "6ce78719-7e38-4480-faea-335910f1543a"
      },
      "source": [
        "from sklearn.tree import DecisionTreeRegressor\n",
        "tree_reg1 = DecisionTreeRegressor(max_depth=2)\n",
        "tree_reg1.fit(X_train, y_train)"
      ],
      "execution_count": null,
      "outputs": [
        {
          "output_type": "execute_result",
          "data": {
            "text/plain": [
              "DecisionTreeRegressor(ccp_alpha=0.0, criterion='mse', max_depth=2,\n",
              "                      max_features=None, max_leaf_nodes=None,\n",
              "                      min_impurity_decrease=0.0, min_impurity_split=None,\n",
              "                      min_samples_leaf=1, min_samples_split=2,\n",
              "                      min_weight_fraction_leaf=0.0, presort='deprecated',\n",
              "                      random_state=None, splitter='best')"
            ]
          },
          "metadata": {
            "tags": []
          },
          "execution_count": 18
        }
      ]
    },
    {
      "cell_type": "markdown",
      "metadata": {
        "id": "SuL6ICO5FNBH"
      },
      "source": [
        "Now train a second DecisionTreeRegressor on the residual errors made by the first\n",
        "predictor:"
      ]
    },
    {
      "cell_type": "code",
      "metadata": {
        "id": "YczXysbzFNBJ",
        "colab": {
          "base_uri": "https://localhost:8080/",
          "height": 119
        },
        "outputId": "61dd583c-4c52-4b90-a8e2-157c0c415e8f"
      },
      "source": [
        "y2 = y_train - tree_reg1.predict(X_train)\n",
        "tree_reg2 = DecisionTreeRegressor(max_depth=2)\n",
        "tree_reg2.fit(X_train, y2)"
      ],
      "execution_count": null,
      "outputs": [
        {
          "output_type": "execute_result",
          "data": {
            "text/plain": [
              "DecisionTreeRegressor(ccp_alpha=0.0, criterion='mse', max_depth=2,\n",
              "                      max_features=None, max_leaf_nodes=None,\n",
              "                      min_impurity_decrease=0.0, min_impurity_split=None,\n",
              "                      min_samples_leaf=1, min_samples_split=2,\n",
              "                      min_weight_fraction_leaf=0.0, presort='deprecated',\n",
              "                      random_state=None, splitter='best')"
            ]
          },
          "metadata": {
            "tags": []
          },
          "execution_count": 21
        }
      ]
    },
    {
      "cell_type": "markdown",
      "metadata": {
        "id": "3o1q_DDsFNBO"
      },
      "source": [
        "Then we train a third regressor on the residual errors made by the second predictor:"
      ]
    },
    {
      "cell_type": "code",
      "metadata": {
        "id": "2IE_aK3kFNBP",
        "colab": {
          "base_uri": "https://localhost:8080/",
          "height": 119
        },
        "outputId": "9888a013-709b-4ef0-fd35-a013097ed186"
      },
      "source": [
        "y3 = y2 - tree_reg2.predict(X_train)\n",
        "tree_reg3 = DecisionTreeRegressor(max_depth=2)\n",
        "tree_reg3.fit(X_train, y3)"
      ],
      "execution_count": null,
      "outputs": [
        {
          "output_type": "execute_result",
          "data": {
            "text/plain": [
              "DecisionTreeRegressor(ccp_alpha=0.0, criterion='mse', max_depth=2,\n",
              "                      max_features=None, max_leaf_nodes=None,\n",
              "                      min_impurity_decrease=0.0, min_impurity_split=None,\n",
              "                      min_samples_leaf=1, min_samples_split=2,\n",
              "                      min_weight_fraction_leaf=0.0, presort='deprecated',\n",
              "                      random_state=None, splitter='best')"
            ]
          },
          "metadata": {
            "tags": []
          },
          "execution_count": 22
        }
      ]
    },
    {
      "cell_type": "code",
      "metadata": {
        "id": "xZ8Te1yJFNBW",
        "colab": {
          "base_uri": "https://localhost:8080/",
          "height": 272
        },
        "outputId": "2194d41c-2052-4dfd-9d5a-3283f71533f7"
      },
      "source": [
        "y_pred = sum(tree.predict(X_test) for tree in (tree_reg1, tree_reg2, tree_reg3))\n",
        "y_pred"
      ],
      "execution_count": null,
      "outputs": [
        {
          "output_type": "execute_result",
          "data": {
            "text/plain": [
              "array([ 1.00097194,  1.9047619 ,  2.17857143,  1.02203065, -0.01245211,\n",
              "        1.61904762,  1.00097194, -0.01245211, -0.01245211,  1.00097194,\n",
              "        1.61904762, -0.01245211,  1.00097194,  1.9047619 ,  1.9047619 ,\n",
              "        1.9047619 , -0.01245211, -0.01245211,  1.02203065, -0.01245211,\n",
              "       -0.01245211,  1.00097194, -0.01245211,  1.61904762, -0.01245211,\n",
              "       -0.01245211, -0.01245211,  1.89285714,  1.9047619 , -0.01245211,\n",
              "        2.17857143,  1.00097194, -0.01245211, -0.01245211,  1.00097194,\n",
              "        1.00097194,  1.9047619 , -0.01245211, -0.01245211,  1.00097194,\n",
              "        1.00097194, -0.01245211,  1.9047619 ,  1.9047619 ,  1.89285714,\n",
              "        1.89285714,  1.9047619 ,  1.00097194, -0.01245211, -0.01245211,\n",
              "        1.61904762, -0.01245211, -0.01245211,  1.02203065,  1.02203065,\n",
              "        1.00097194,  1.00097194,  1.89285714,  1.02203065,  1.9047619 ,\n",
              "       -0.03351082,  1.9047619 ,  1.02203065, -0.01245211, -0.01245211,\n",
              "        1.9047619 ,  1.02203065,  2.17857143,  2.17857143, -0.01245211,\n",
              "        1.02203065,  1.00097194,  1.61904762, -0.01245211,  1.12791888])"
            ]
          },
          "metadata": {
            "tags": []
          },
          "execution_count": 24
        }
      ]
    },
    {
      "cell_type": "markdown",
      "metadata": {
        "id": "jJHSaBq3FNBa"
      },
      "source": [
        "A simpler way to train GBRT ensembles is to use Scikit-Learn’s GradientBoostingRe\n",
        "gressor class. Much like the RandomForestRegressor class, it has hyperparameters to\n",
        "control the growth of Decision Trees (e.g., max_depth, min_samples_leaf, and so on),\n",
        "as well as hyperparameters to control the ensemble training, such as the number of\n",
        "trees (n_estimators). "
      ]
    },
    {
      "cell_type": "code",
      "metadata": {
        "id": "N0CweAerFNBb",
        "colab": {
          "base_uri": "https://localhost:8080/"
        },
        "outputId": "e5a6ed6a-aaca-455d-a1f7-4a42503ce967"
      },
      "source": [
        "from sklearn.ensemble import GradientBoostingRegressor\n",
        "gbrt = GradientBoostingRegressor(max_depth=2, n_estimators=3, learning_rate=1.0)\n",
        "gbrt.fit(X_train, y_train)"
      ],
      "execution_count": null,
      "outputs": [
        {
          "output_type": "execute_result",
          "data": {
            "text/plain": [
              "GradientBoostingRegressor(alpha=0.9, ccp_alpha=0.0, criterion='friedman_mse',\n",
              "                          init=None, learning_rate=1.0, loss='ls', max_depth=2,\n",
              "                          max_features=None, max_leaf_nodes=None,\n",
              "                          min_impurity_decrease=0.0, min_impurity_split=None,\n",
              "                          min_samples_leaf=1, min_samples_split=2,\n",
              "                          min_weight_fraction_leaf=0.0, n_estimators=3,\n",
              "                          n_iter_no_change=None, presort='deprecated',\n",
              "                          random_state=None, subsample=1.0, tol=0.0001,\n",
              "                          validation_fraction=0.1, verbose=0, warm_start=False)"
            ]
          },
          "metadata": {
            "tags": []
          },
          "execution_count": 16
        }
      ]
    },
    {
      "cell_type": "markdown",
      "metadata": {
        "id": "FPVf3dm3FNBg"
      },
      "source": [
        "In order to find the optimal number of trees, you can use early stopping A simple way to implement this is to use the staged_predict() method: it returns an iterator over the predictions made by the ensemble at each stage of train‐\n",
        "ing (with one tree, two trees, etc.)\n",
        "\n"
      ]
    },
    {
      "cell_type": "markdown",
      "metadata": {
        "id": "4QDsAlxNFNBg"
      },
      "source": [
        "The following code trains a GBRT ensemble with\n",
        "120 trees, then measures the validation error at each stage of training to find the opti‐\n",
        "mal number of trees, and finally trains another GBRT ensemble using the optimal\n",
        "number of trees:"
      ]
    },
    {
      "cell_type": "code",
      "metadata": {
        "id": "cBqXqupLFNBi",
        "colab": {
          "base_uri": "https://localhost:8080/",
          "height": 170
        },
        "outputId": "c6be541d-f6f2-4832-d48a-6b2a080c6d39"
      },
      "source": [
        "import numpy as np\n",
        "from sklearn.model_selection import train_test_split\n",
        "from sklearn.metrics import mean_squared_error\n",
        "#X_train, X_val, y_train, y_val = train_test_split(X, y)\n",
        "gbrt = GradientBoostingRegressor(max_depth=2, n_estimators=120)\n",
        "gbrt.fit(X_train, y_train)\n",
        "errors = [mean_squared_error(y_test, y_pred) for y_pred in gbrt.staged_predict(X_test)]\n",
        "bst_n_estimators = np.argmin(errors)\n",
        "gbrt_best = GradientBoostingRegressor(max_depth=2,n_estimators=bst_n_estimators)\n",
        "gbrt_best.fit(X_train, y_train)"
      ],
      "execution_count": null,
      "outputs": [
        {
          "output_type": "execute_result",
          "data": {
            "text/plain": [
              "GradientBoostingRegressor(alpha=0.9, ccp_alpha=0.0, criterion='friedman_mse',\n",
              "                          init=None, learning_rate=0.1, loss='ls', max_depth=2,\n",
              "                          max_features=None, max_leaf_nodes=None,\n",
              "                          min_impurity_decrease=0.0, min_impurity_split=None,\n",
              "                          min_samples_leaf=1, min_samples_split=2,\n",
              "                          min_weight_fraction_leaf=0.0, n_estimators=49,\n",
              "                          n_iter_no_change=None, presort='deprecated',\n",
              "                          random_state=None, subsample=1.0, tol=0.0001,\n",
              "                          validation_fraction=0.1, verbose=0, warm_start=False)"
            ]
          },
          "metadata": {
            "tags": []
          },
          "execution_count": 28
        }
      ]
    },
    {
      "cell_type": "markdown",
      "metadata": {
        "id": "G7zyIxNxFNBo"
      },
      "source": [
        "XGBoost"
      ]
    },
    {
      "cell_type": "code",
      "metadata": {
        "id": "h3q1bgRgFNBr",
        "colab": {
          "base_uri": "https://localhost:8080/",
          "height": 34
        },
        "outputId": "a13c63fa-a0c6-48b5-f1b5-444098b7df8e"
      },
      "source": [
        "import xgboost\n",
        "xgb_reg = xgboost.XGBRegressor()\n",
        "xgb_reg.fit(X_train, y_train)\n",
        "y_pred = xgb_reg.predict(X_test)"
      ],
      "execution_count": null,
      "outputs": [
        {
          "output_type": "stream",
          "text": [
            "[14:49:12] WARNING: /workspace/src/objective/regression_obj.cu:152: reg:linear is now deprecated in favor of reg:squarederror.\n"
          ],
          "name": "stdout"
        }
      ]
    },
    {
      "cell_type": "code",
      "metadata": {
        "id": "-95iLEbPFNBv"
      },
      "source": [
        "XGBoost also offers several nice features, such as automatically taking care of early\n",
        "stopping"
      ],
      "execution_count": null,
      "outputs": []
    },
    {
      "cell_type": "code",
      "metadata": {
        "id": "cjOrABBWFNB0",
        "colab": {
          "base_uri": "https://localhost:8080/",
          "height": 748
        },
        "outputId": "943c5ec9-d73c-4f22-dc38-ff7acc319a4b"
      },
      "source": [
        "xgb_reg.fit(X_train, y_train,\n",
        " eval_set=[(X_test, y_test)], early_stopping_rounds=3)\n",
        "y_pred = xgb_reg.predict(X_test)"
      ],
      "execution_count": null,
      "outputs": [
        {
          "output_type": "stream",
          "text": [
            "[14:51:00] WARNING: /workspace/src/objective/regression_obj.cu:152: reg:linear is now deprecated in favor of reg:squarederror.\n",
            "[0]\tvalidation_0-rmse:0.91202\n",
            "Will train until validation_0-rmse hasn't improved in 3 rounds.\n",
            "[1]\tvalidation_0-rmse:0.834305\n",
            "[2]\tvalidation_0-rmse:0.762036\n",
            "[3]\tvalidation_0-rmse:0.702976\n",
            "[4]\tvalidation_0-rmse:0.645998\n",
            "[5]\tvalidation_0-rmse:0.592632\n",
            "[6]\tvalidation_0-rmse:0.546432\n",
            "[7]\tvalidation_0-rmse:0.505695\n",
            "[8]\tvalidation_0-rmse:0.469202\n",
            "[9]\tvalidation_0-rmse:0.436566\n",
            "[10]\tvalidation_0-rmse:0.407432\n",
            "[11]\tvalidation_0-rmse:0.379575\n",
            "[12]\tvalidation_0-rmse:0.358354\n",
            "[13]\tvalidation_0-rmse:0.339774\n",
            "[14]\tvalidation_0-rmse:0.320164\n",
            "[15]\tvalidation_0-rmse:0.304058\n",
            "[16]\tvalidation_0-rmse:0.291778\n",
            "[17]\tvalidation_0-rmse:0.279877\n",
            "[18]\tvalidation_0-rmse:0.269797\n",
            "[19]\tvalidation_0-rmse:0.261075\n",
            "[20]\tvalidation_0-rmse:0.253548\n",
            "[21]\tvalidation_0-rmse:0.244364\n",
            "[22]\tvalidation_0-rmse:0.240075\n",
            "[23]\tvalidation_0-rmse:0.234794\n",
            "[24]\tvalidation_0-rmse:0.227919\n",
            "[25]\tvalidation_0-rmse:0.22187\n",
            "[26]\tvalidation_0-rmse:0.218028\n",
            "[27]\tvalidation_0-rmse:0.216298\n",
            "[28]\tvalidation_0-rmse:0.213329\n",
            "[29]\tvalidation_0-rmse:0.210676\n",
            "[30]\tvalidation_0-rmse:0.209711\n",
            "[31]\tvalidation_0-rmse:0.207642\n",
            "[32]\tvalidation_0-rmse:0.208692\n",
            "[33]\tvalidation_0-rmse:0.206975\n",
            "[34]\tvalidation_0-rmse:0.206453\n",
            "[35]\tvalidation_0-rmse:0.208039\n",
            "[36]\tvalidation_0-rmse:0.207307\n",
            "[37]\tvalidation_0-rmse:0.206685\n",
            "Stopping. Best iteration:\n",
            "[34]\tvalidation_0-rmse:0.206453\n",
            "\n"
          ],
          "name": "stdout"
        }
      ]
    },
    {
      "cell_type": "code",
      "metadata": {
        "id": "Frd41GivFNB4"
      },
      "source": [
        "from sklearn import svm, datasets\n",
        "from sklearn.model_selection import GridSearchCV\n"
      ],
      "execution_count": null,
      "outputs": []
    },
    {
      "cell_type": "code",
      "metadata": {
        "id": "eU6zqvk7FNB7"
      },
      "source": [
        "iris = datasets.load_iris()"
      ],
      "execution_count": null,
      "outputs": []
    },
    {
      "cell_type": "code",
      "metadata": {
        "id": "yHtZ1dzpFNB-"
      },
      "source": [
        "parameters = {'kernel':('linear', 'rbf'), 'C':[1, 10]}"
      ],
      "execution_count": null,
      "outputs": []
    },
    {
      "cell_type": "code",
      "metadata": {
        "id": "OA9TSHYUFNCE"
      },
      "source": [
        "svc = svm.SVC()"
      ],
      "execution_count": null,
      "outputs": []
    },
    {
      "cell_type": "code",
      "metadata": {
        "id": "-BhYc7IWFNCJ"
      },
      "source": [
        "clf = GridSearchCV(svc, parameters)"
      ],
      "execution_count": null,
      "outputs": []
    },
    {
      "cell_type": "code",
      "metadata": {
        "id": "Bc5wc7rFFNCM",
        "colab": {
          "base_uri": "https://localhost:8080/",
          "height": 204
        },
        "outputId": "5fbac386-feaa-452d-d7ae-bf0652920a95"
      },
      "source": [
        "clf.fit(iris.data, iris.target)"
      ],
      "execution_count": null,
      "outputs": [
        {
          "output_type": "execute_result",
          "data": {
            "text/plain": [
              "GridSearchCV(cv=None, error_score=nan,\n",
              "             estimator=SVC(C=1.0, break_ties=False, cache_size=200,\n",
              "                           class_weight=None, coef0=0.0,\n",
              "                           decision_function_shape='ovr', degree=3,\n",
              "                           gamma='scale', kernel='rbf', max_iter=-1,\n",
              "                           probability=False, random_state=None, shrinking=True,\n",
              "                           tol=0.001, verbose=False),\n",
              "             iid='deprecated', n_jobs=None,\n",
              "             param_grid={'C': [1, 10], 'kernel': ('linear', 'rbf')},\n",
              "             pre_dispatch='2*n_jobs', refit=True, return_train_score=False,\n",
              "             scoring=None, verbose=0)"
            ]
          },
          "metadata": {
            "tags": []
          },
          "execution_count": 41
        }
      ]
    },
    {
      "cell_type": "code",
      "metadata": {
        "id": "VbR2VbbhFNCR",
        "outputId": "e9219e9d-dce9-4c07-d4f7-0f0a54b3c1bb"
      },
      "source": [
        "sorted(clf.cv_results_.keys())"
      ],
      "execution_count": null,
      "outputs": [
        {
          "output_type": "execute_result",
          "data": {
            "text/plain": [
              "['mean_fit_time',\n",
              " 'mean_score_time',\n",
              " 'mean_test_score',\n",
              " 'param_C',\n",
              " 'param_kernel',\n",
              " 'params',\n",
              " 'rank_test_score',\n",
              " 'split0_test_score',\n",
              " 'split1_test_score',\n",
              " 'split2_test_score',\n",
              " 'std_fit_time',\n",
              " 'std_score_time',\n",
              " 'std_test_score']"
            ]
          },
          "metadata": {
            "tags": []
          },
          "execution_count": 10
        }
      ]
    },
    {
      "cell_type": "code",
      "metadata": {
        "id": "U9RHX6eXFNCV",
        "colab": {
          "base_uri": "https://localhost:8080/",
          "height": 425
        },
        "outputId": "db90c507-f432-4c10-a787-6cda477513c9"
      },
      "source": [
        "clf.cv_results_"
      ],
      "execution_count": null,
      "outputs": [
        {
          "output_type": "execute_result",
          "data": {
            "text/plain": [
              "{'mean_fit_time': array([0.00085516, 0.00080962, 0.00058064, 0.00062561]),\n",
              " 'mean_score_time': array([0.00044484, 0.00044627, 0.00033941, 0.00034785]),\n",
              " 'mean_test_score': array([0.98      , 0.96666667, 0.97333333, 0.98      ]),\n",
              " 'param_C': masked_array(data=[1, 1, 10, 10],\n",
              "              mask=[False, False, False, False],\n",
              "        fill_value='?',\n",
              "             dtype=object),\n",
              " 'param_kernel': masked_array(data=['linear', 'rbf', 'linear', 'rbf'],\n",
              "              mask=[False, False, False, False],\n",
              "        fill_value='?',\n",
              "             dtype=object),\n",
              " 'params': [{'C': 1, 'kernel': 'linear'},\n",
              "  {'C': 1, 'kernel': 'rbf'},\n",
              "  {'C': 10, 'kernel': 'linear'},\n",
              "  {'C': 10, 'kernel': 'rbf'}],\n",
              " 'rank_test_score': array([1, 4, 3, 1], dtype=int32),\n",
              " 'split0_test_score': array([0.96666667, 0.96666667, 1.        , 0.96666667]),\n",
              " 'split1_test_score': array([1.        , 0.96666667, 1.        , 1.        ]),\n",
              " 'split2_test_score': array([0.96666667, 0.96666667, 0.9       , 0.96666667]),\n",
              " 'split3_test_score': array([0.96666667, 0.93333333, 0.96666667, 0.96666667]),\n",
              " 'split4_test_score': array([1., 1., 1., 1.]),\n",
              " 'std_fit_time': array([2.44194515e-04, 1.24523027e-04, 5.27517688e-05, 3.87043760e-05]),\n",
              " 'std_score_time': array([3.13664628e-05, 4.80635298e-05, 1.42530447e-05, 2.39541271e-05]),\n",
              " 'std_test_score': array([0.01632993, 0.02108185, 0.03887301, 0.01632993])}"
            ]
          },
          "metadata": {
            "tags": []
          },
          "execution_count": 42
        }
      ]
    },
    {
      "cell_type": "markdown",
      "metadata": {
        "id": "dd6WRljWFNCZ"
      },
      "source": [
        "Randomized Search"
      ]
    },
    {
      "cell_type": "code",
      "metadata": {
        "id": "8-p1Z2WLFNCZ"
      },
      "source": [
        "from sklearn.linear_model import LogisticRegression\n",
        "from sklearn.model_selection import RandomizedSearchCV\n",
        "from scipy.stats import uniform\n",
        "from sklearn.datasets import load_iris"
      ],
      "execution_count": null,
      "outputs": []
    },
    {
      "cell_type": "code",
      "metadata": {
        "id": "Uocq_20UFNCd"
      },
      "source": [
        "iris = load_iris()\n",
        "logistic = LogisticRegression(solver='saga', tol=1e-2, max_iter=200, random_state=0)\n",
        "distributions = dict(C=uniform(loc=0, scale=4), penalty=['l2', 'l1'])"
      ],
      "execution_count": null,
      "outputs": []
    },
    {
      "cell_type": "code",
      "metadata": {
        "id": "PpxeKELyFNCg"
      },
      "source": [
        "clf = RandomizedSearchCV(logistic, distributions, random_state=0)"
      ],
      "execution_count": null,
      "outputs": []
    },
    {
      "cell_type": "code",
      "metadata": {
        "id": "R0codchmFNCk"
      },
      "source": [
        "search = clf.fit(iris.data, iris.target)"
      ],
      "execution_count": null,
      "outputs": []
    },
    {
      "cell_type": "code",
      "metadata": {
        "id": "WIDTEkyXFNCo",
        "colab": {
          "base_uri": "https://localhost:8080/",
          "height": 34
        },
        "outputId": "066f05cd-386e-496a-fe2c-c2a411983b0f"
      },
      "source": [
        "search.best_params_"
      ],
      "execution_count": null,
      "outputs": [
        {
          "output_type": "execute_result",
          "data": {
            "text/plain": [
              "{'C': 2.195254015709299, 'penalty': 'l1'}"
            ]
          },
          "metadata": {
            "tags": []
          },
          "execution_count": 47
        }
      ]
    },
    {
      "cell_type": "code",
      "metadata": {
        "id": "1xny_1YrFNCq"
      },
      "source": [
        ""
      ],
      "execution_count": null,
      "outputs": []
    }
  ]
}