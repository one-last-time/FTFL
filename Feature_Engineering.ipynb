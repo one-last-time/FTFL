{
  "nbformat": 4,
  "nbformat_minor": 0,
  "metadata": {
    "anaconda-cloud": {},
    "kernelspec": {
      "display_name": "Python 3",
      "language": "python",
      "name": "python3"
    },
    "language_info": {
      "codemirror_mode": {
        "name": "ipython",
        "version": 3
      },
      "file_extension": ".py",
      "mimetype": "text/x-python",
      "name": "python",
      "nbconvert_exporter": "python",
      "pygments_lexer": "ipython3",
      "version": "3.5.1"
    },
    "colab": {
      "name": "Feature_Engineering.ipynb",
      "provenance": [],
      "collapsed_sections": [],
      "include_colab_link": true
    }
  },
  "cells": [
    {
      "cell_type": "markdown",
      "metadata": {
        "id": "view-in-github",
        "colab_type": "text"
      },
      "source": [
        "<a href=\"https://colab.research.google.com/github/one-last-time/FTFL/blob/main/Feature_Engineering.ipynb\" target=\"_parent\"><img src=\"https://colab.research.google.com/assets/colab-badge.svg\" alt=\"Open In Colab\"/></a>"
      ]
    },
    {
      "cell_type": "markdown",
      "metadata": {
        "id": "Vkyan7rHQwOz"
      },
      "source": [
        "# Feature Engineering"
      ]
    },
    {
      "cell_type": "markdown",
      "metadata": {
        "deletable": true,
        "editable": true,
        "id": "TSgs-l_SQwO0"
      },
      "source": [
        "In the real world, data rarely comes in a tidy form.\n",
        "With this in mind, one of the more important steps in using machine learning in practice is *feature engineering*: that is, taking whatever information you have about your problem and turning it into numbers that you can use to build your feature matrix.\n",
        "\n",
        "In this section, we will cover a few common examples of feature engineering tasks: features for representing *categorical data*, features for representing *text*, and features for representing *images*.\n",
        "Additionally, we will discuss *derived features* for increasing model complexity and *imputation* of missing data.\n",
        "Often this process is known as *vectorization*, as it involves converting arbitrary data into well-behaved vectors."
      ]
    },
    {
      "cell_type": "markdown",
      "metadata": {
        "deletable": true,
        "editable": true,
        "id": "1MF11rICQwO1"
      },
      "source": [
        "## Categorical Features\n",
        "\n",
        "One common type of non-numerical data is *categorical* data.\n",
        "For example, imagine you are exploring some data on housing prices, and along with numerical features like \"price\" and \"rooms\", you also have \"neighborhood\" information.\n",
        "For example, your data might look something like this:"
      ]
    },
    {
      "cell_type": "code",
      "metadata": {
        "deletable": true,
        "editable": true,
        "id": "LDhQKkvFQwO2"
      },
      "source": [
        "data = [\n",
        "    {'price': 850000, 'rooms': 4, 'neighborhood': 'Queen Anne'},\n",
        "    {'price': 700000, 'rooms': 3, 'neighborhood': 'Fremont'},\n",
        "    {'price': 650000, 'rooms': 3, 'neighborhood': 'Wallingford'},\n",
        "    {'price': 600000, 'rooms': 2, 'neighborhood': 'Fremont'}\n",
        "]"
      ],
      "execution_count": null,
      "outputs": []
    },
    {
      "cell_type": "markdown",
      "metadata": {
        "deletable": true,
        "editable": true,
        "id": "KEjPDxJgQwO7"
      },
      "source": [
        "You might be tempted to encode this data with a straightforward numerical mapping:"
      ]
    },
    {
      "cell_type": "code",
      "metadata": {
        "deletable": true,
        "editable": true,
        "id": "A-Xh4BIAQwO8"
      },
      "source": [
        "{'Queen Anne': 1, 'Fremont': 2, 'Wallingford': 3};"
      ],
      "execution_count": null,
      "outputs": []
    },
    {
      "cell_type": "markdown",
      "metadata": {
        "deletable": true,
        "editable": true,
        "id": "mnabTTEcQwPA"
      },
      "source": [
        "It turns out that this is not generally a useful approach in Scikit-Learn: the package's models make the fundamental assumption that numerical features reflect algebraic quantities.\n",
        "Thus such a mapping would imply, for example, that *Queen Anne < Fremont < Wallingford*, or even that *Wallingford - Queen Anne = Fremont*, which (niche demographic jokes aside) does not make much sense.\n",
        "\n",
        "In this case, one proven technique is to use *one-hot encoding*, which effectively creates extra columns indicating the presence or absence of a category with a value of 1 or 0, respectively.\n",
        "When your data comes as a list of dictionaries, Scikit-Learn's ``DictVectorizer`` will do this for you:"
      ]
    },
    {
      "cell_type": "code",
      "metadata": {
        "deletable": true,
        "editable": true,
        "id": "Me10gsD0QwPB",
        "outputId": "ba027b58-c2d3-4fd1-c83e-b73255157dba"
      },
      "source": [
        "from sklearn.feature_extraction import DictVectorizer\n",
        "vec = DictVectorizer(sparse=False, dtype=int)\n",
        "vec.fit_transform(data)"
      ],
      "execution_count": null,
      "outputs": [
        {
          "output_type": "execute_result",
          "data": {
            "text/plain": [
              "array([[     0,      1,      0, 850000,      4],\n",
              "       [     1,      0,      0, 700000,      3],\n",
              "       [     0,      0,      1, 650000,      3],\n",
              "       [     1,      0,      0, 600000,      2]], dtype=int64)"
            ]
          },
          "metadata": {
            "tags": []
          },
          "execution_count": 3
        }
      ]
    },
    {
      "cell_type": "markdown",
      "metadata": {
        "deletable": true,
        "editable": true,
        "id": "4Bw3dWa4QwPF"
      },
      "source": [
        "Notice that the 'neighborhood' column has been expanded into three separate columns, representing the three neighborhood labels, and that each row has a 1 in the column associated with its neighborhood.\n",
        "With these categorical features thus encoded, you can proceed as normal with fitting a Scikit-Learn model.\n",
        "\n",
        "To see the meaning of each column, you can inspect the feature names:"
      ]
    },
    {
      "cell_type": "code",
      "metadata": {
        "deletable": true,
        "editable": true,
        "id": "tj_jETUGQwPG",
        "outputId": "7869b68b-781f-4dbf-e97b-47a6623c2f7d"
      },
      "source": [
        "vec.get_feature_names()"
      ],
      "execution_count": null,
      "outputs": [
        {
          "output_type": "execute_result",
          "data": {
            "text/plain": [
              "['neighborhood=Fremont',\n",
              " 'neighborhood=Queen Anne',\n",
              " 'neighborhood=Wallingford',\n",
              " 'price',\n",
              " 'rooms']"
            ]
          },
          "metadata": {
            "tags": []
          },
          "execution_count": 4
        }
      ]
    },
    {
      "cell_type": "markdown",
      "metadata": {
        "deletable": true,
        "editable": true,
        "id": "Z2NJz-tzQwPJ"
      },
      "source": [
        "There is one clear disadvantage of this approach: if your category has many possible values, this can *greatly* increase the size of your dataset.\n",
        "However, because the encoded data contains mostly zeros, a sparse output can be a very efficient solution:"
      ]
    },
    {
      "cell_type": "code",
      "metadata": {
        "deletable": true,
        "editable": true,
        "id": "PKIYTf5XQwPM",
        "outputId": "a9657209-264f-4f6d-d84c-b1977461ad1d"
      },
      "source": [
        "vec = DictVectorizer(sparse=True, dtype=int)\n",
        "vec.fit_transform(data)"
      ],
      "execution_count": null,
      "outputs": [
        {
          "output_type": "execute_result",
          "data": {
            "text/plain": [
              "<4x5 sparse matrix of type '<class 'numpy.int64'>'\n",
              "\twith 12 stored elements in Compressed Sparse Row format>"
            ]
          },
          "metadata": {
            "tags": []
          },
          "execution_count": 5
        }
      ]
    },
    {
      "cell_type": "markdown",
      "metadata": {
        "deletable": true,
        "editable": true,
        "id": "fleNykJUQwPR"
      },
      "source": [
        "Many (though not yet all) of the Scikit-Learn estimators accept such sparse inputs when fitting and evaluating models. ``sklearn.preprocessing.OneHotEncoder`` and ``sklearn.feature_extraction.FeatureHasher`` are two additional tools that Scikit-Learn includes to support this type of encoding."
      ]
    },
    {
      "cell_type": "markdown",
      "metadata": {
        "id": "EN8HQOCUP3Wl"
      },
      "source": [
        ""
      ]
    },
    {
      "cell_type": "code",
      "metadata": {
        "id": "KtUrDrFrQiLm"
      },
      "source": [
        "import pandas as pd\n",
        "import numpy as np\n",
        "import copy\n",
        "%matplotlib inline\n"
      ],
      "execution_count": null,
      "outputs": []
    },
    {
      "cell_type": "code",
      "metadata": {
        "id": "xwYWBtOlQto0",
        "colab": {
          "base_uri": "https://localhost:8080/",
          "height": 215
        },
        "outputId": "80e25124-eec1-4f73-df46-3b895561622c"
      },
      "source": [
        "df_flights = pd.read_csv('https://raw.githubusercontent.com/ismayc/pnwflights14/master/data/flights.csv')\n",
        "\n",
        "df_flights.head()"
      ],
      "execution_count": null,
      "outputs": [
        {
          "output_type": "execute_result",
          "data": {
            "text/html": [
              "<div>\n",
              "<style scoped>\n",
              "    .dataframe tbody tr th:only-of-type {\n",
              "        vertical-align: middle;\n",
              "    }\n",
              "\n",
              "    .dataframe tbody tr th {\n",
              "        vertical-align: top;\n",
              "    }\n",
              "\n",
              "    .dataframe thead th {\n",
              "        text-align: right;\n",
              "    }\n",
              "</style>\n",
              "<table border=\"1\" class=\"dataframe\">\n",
              "  <thead>\n",
              "    <tr style=\"text-align: right;\">\n",
              "      <th></th>\n",
              "      <th>year</th>\n",
              "      <th>month</th>\n",
              "      <th>day</th>\n",
              "      <th>dep_time</th>\n",
              "      <th>dep_delay</th>\n",
              "      <th>arr_time</th>\n",
              "      <th>arr_delay</th>\n",
              "      <th>carrier</th>\n",
              "      <th>tailnum</th>\n",
              "      <th>flight</th>\n",
              "      <th>origin</th>\n",
              "      <th>dest</th>\n",
              "      <th>air_time</th>\n",
              "      <th>distance</th>\n",
              "      <th>hour</th>\n",
              "      <th>minute</th>\n",
              "    </tr>\n",
              "  </thead>\n",
              "  <tbody>\n",
              "    <tr>\n",
              "      <th>0</th>\n",
              "      <td>2014</td>\n",
              "      <td>1</td>\n",
              "      <td>1</td>\n",
              "      <td>1.0</td>\n",
              "      <td>96.0</td>\n",
              "      <td>235.0</td>\n",
              "      <td>70.0</td>\n",
              "      <td>AS</td>\n",
              "      <td>N508AS</td>\n",
              "      <td>145</td>\n",
              "      <td>PDX</td>\n",
              "      <td>ANC</td>\n",
              "      <td>194.0</td>\n",
              "      <td>1542</td>\n",
              "      <td>0.0</td>\n",
              "      <td>1.0</td>\n",
              "    </tr>\n",
              "    <tr>\n",
              "      <th>1</th>\n",
              "      <td>2014</td>\n",
              "      <td>1</td>\n",
              "      <td>1</td>\n",
              "      <td>4.0</td>\n",
              "      <td>-6.0</td>\n",
              "      <td>738.0</td>\n",
              "      <td>-23.0</td>\n",
              "      <td>US</td>\n",
              "      <td>N195UW</td>\n",
              "      <td>1830</td>\n",
              "      <td>SEA</td>\n",
              "      <td>CLT</td>\n",
              "      <td>252.0</td>\n",
              "      <td>2279</td>\n",
              "      <td>0.0</td>\n",
              "      <td>4.0</td>\n",
              "    </tr>\n",
              "    <tr>\n",
              "      <th>2</th>\n",
              "      <td>2014</td>\n",
              "      <td>1</td>\n",
              "      <td>1</td>\n",
              "      <td>8.0</td>\n",
              "      <td>13.0</td>\n",
              "      <td>548.0</td>\n",
              "      <td>-4.0</td>\n",
              "      <td>UA</td>\n",
              "      <td>N37422</td>\n",
              "      <td>1609</td>\n",
              "      <td>PDX</td>\n",
              "      <td>IAH</td>\n",
              "      <td>201.0</td>\n",
              "      <td>1825</td>\n",
              "      <td>0.0</td>\n",
              "      <td>8.0</td>\n",
              "    </tr>\n",
              "    <tr>\n",
              "      <th>3</th>\n",
              "      <td>2014</td>\n",
              "      <td>1</td>\n",
              "      <td>1</td>\n",
              "      <td>28.0</td>\n",
              "      <td>-2.0</td>\n",
              "      <td>800.0</td>\n",
              "      <td>-23.0</td>\n",
              "      <td>US</td>\n",
              "      <td>N547UW</td>\n",
              "      <td>466</td>\n",
              "      <td>PDX</td>\n",
              "      <td>CLT</td>\n",
              "      <td>251.0</td>\n",
              "      <td>2282</td>\n",
              "      <td>0.0</td>\n",
              "      <td>28.0</td>\n",
              "    </tr>\n",
              "    <tr>\n",
              "      <th>4</th>\n",
              "      <td>2014</td>\n",
              "      <td>1</td>\n",
              "      <td>1</td>\n",
              "      <td>34.0</td>\n",
              "      <td>44.0</td>\n",
              "      <td>325.0</td>\n",
              "      <td>43.0</td>\n",
              "      <td>AS</td>\n",
              "      <td>N762AS</td>\n",
              "      <td>121</td>\n",
              "      <td>SEA</td>\n",
              "      <td>ANC</td>\n",
              "      <td>201.0</td>\n",
              "      <td>1448</td>\n",
              "      <td>0.0</td>\n",
              "      <td>34.0</td>\n",
              "    </tr>\n",
              "  </tbody>\n",
              "</table>\n",
              "</div>"
            ],
            "text/plain": [
              "   year  month  day  dep_time  dep_delay  ...  dest  air_time distance hour  minute\n",
              "0  2014      1    1       1.0       96.0  ...   ANC     194.0     1542  0.0     1.0\n",
              "1  2014      1    1       4.0       -6.0  ...   CLT     252.0     2279  0.0     4.0\n",
              "2  2014      1    1       8.0       13.0  ...   IAH     201.0     1825  0.0     8.0\n",
              "3  2014      1    1      28.0       -2.0  ...   CLT     251.0     2282  0.0    28.0\n",
              "4  2014      1    1      34.0       44.0  ...   ANC     201.0     1448  0.0    34.0\n",
              "\n",
              "[5 rows x 16 columns]"
            ]
          },
          "metadata": {
            "tags": []
          },
          "execution_count": 3
        }
      ]
    },
    {
      "cell_type": "code",
      "metadata": {
        "id": "RwYw9w5RQwlg",
        "colab": {
          "base_uri": "https://localhost:8080/",
          "height": 391
        },
        "outputId": "d80d4920-be43-4c4b-990f-e216db537f04"
      },
      "source": [
        "print(df_flights.info())"
      ],
      "execution_count": null,
      "outputs": [
        {
          "output_type": "stream",
          "text": [
            "<class 'pandas.core.frame.DataFrame'>\n",
            "RangeIndex: 162049 entries, 0 to 162048\n",
            "Data columns (total 16 columns):\n",
            "year         162049 non-null int64\n",
            "month        162049 non-null int64\n",
            "day          162049 non-null int64\n",
            "dep_time     161192 non-null float64\n",
            "dep_delay    161192 non-null float64\n",
            "arr_time     161061 non-null float64\n",
            "arr_delay    160748 non-null float64\n",
            "carrier      162049 non-null object\n",
            "tailnum      161801 non-null object\n",
            "flight       162049 non-null int64\n",
            "origin       162049 non-null object\n",
            "dest         162049 non-null object\n",
            "air_time     160748 non-null float64\n",
            "distance     162049 non-null int64\n",
            "hour         161192 non-null float64\n",
            "minute       161192 non-null float64\n",
            "dtypes: float64(7), int64(5), object(4)\n",
            "memory usage: 19.8+ MB\n",
            "None\n"
          ],
          "name": "stdout"
        }
      ]
    },
    {
      "cell_type": "code",
      "metadata": {
        "id": "0jnpb-C1Rvj3",
        "colab": {
          "base_uri": "https://localhost:8080/",
          "height": 195
        },
        "outputId": "ddf40d52-16b2-447f-aa06-d2618891c4ab"
      },
      "source": [
        "## Filtering Categorical Data Out\n",
        "cat_df_flights = df_flights.select_dtypes(include=['object']).copy()\n",
        "cat_df_flights.head()\n"
      ],
      "execution_count": null,
      "outputs": [
        {
          "output_type": "execute_result",
          "data": {
            "text/html": [
              "<div>\n",
              "<style scoped>\n",
              "    .dataframe tbody tr th:only-of-type {\n",
              "        vertical-align: middle;\n",
              "    }\n",
              "\n",
              "    .dataframe tbody tr th {\n",
              "        vertical-align: top;\n",
              "    }\n",
              "\n",
              "    .dataframe thead th {\n",
              "        text-align: right;\n",
              "    }\n",
              "</style>\n",
              "<table border=\"1\" class=\"dataframe\">\n",
              "  <thead>\n",
              "    <tr style=\"text-align: right;\">\n",
              "      <th></th>\n",
              "      <th>carrier</th>\n",
              "      <th>tailnum</th>\n",
              "      <th>origin</th>\n",
              "      <th>dest</th>\n",
              "    </tr>\n",
              "  </thead>\n",
              "  <tbody>\n",
              "    <tr>\n",
              "      <th>0</th>\n",
              "      <td>AS</td>\n",
              "      <td>N508AS</td>\n",
              "      <td>PDX</td>\n",
              "      <td>ANC</td>\n",
              "    </tr>\n",
              "    <tr>\n",
              "      <th>1</th>\n",
              "      <td>US</td>\n",
              "      <td>N195UW</td>\n",
              "      <td>SEA</td>\n",
              "      <td>CLT</td>\n",
              "    </tr>\n",
              "    <tr>\n",
              "      <th>2</th>\n",
              "      <td>UA</td>\n",
              "      <td>N37422</td>\n",
              "      <td>PDX</td>\n",
              "      <td>IAH</td>\n",
              "    </tr>\n",
              "    <tr>\n",
              "      <th>3</th>\n",
              "      <td>US</td>\n",
              "      <td>N547UW</td>\n",
              "      <td>PDX</td>\n",
              "      <td>CLT</td>\n",
              "    </tr>\n",
              "    <tr>\n",
              "      <th>4</th>\n",
              "      <td>AS</td>\n",
              "      <td>N762AS</td>\n",
              "      <td>SEA</td>\n",
              "      <td>ANC</td>\n",
              "    </tr>\n",
              "  </tbody>\n",
              "</table>\n",
              "</div>"
            ],
            "text/plain": [
              "  carrier tailnum origin dest\n",
              "0      AS  N508AS    PDX  ANC\n",
              "1      US  N195UW    SEA  CLT\n",
              "2      UA  N37422    PDX  IAH\n",
              "3      US  N547UW    PDX  CLT\n",
              "4      AS  N762AS    SEA  ANC"
            ]
          },
          "metadata": {
            "tags": []
          },
          "execution_count": 8
        }
      ]
    },
    {
      "cell_type": "code",
      "metadata": {
        "id": "ZbC1IrgWSHUR",
        "colab": {
          "base_uri": "https://localhost:8080/",
          "height": 34
        },
        "outputId": "e5161e0b-5b9e-4fb2-8c41-844fc4dcd193"
      },
      "source": [
        "## Checking Null Values\n",
        "print(cat_df_flights.isnull().values.sum())\n"
      ],
      "execution_count": null,
      "outputs": [
        {
          "output_type": "stream",
          "text": [
            "248\n"
          ],
          "name": "stdout"
        }
      ]
    },
    {
      "cell_type": "code",
      "metadata": {
        "id": "IyZjUQBCSLza",
        "colab": {
          "base_uri": "https://localhost:8080/",
          "height": 101
        },
        "outputId": "dbea35c2-30cc-4cde-9244-100666d76136"
      },
      "source": [
        "## Column Wise Distribution of Null Values\n",
        "print(cat_df_flights.isnull().sum())"
      ],
      "execution_count": null,
      "outputs": [
        {
          "output_type": "stream",
          "text": [
            "carrier      0\n",
            "tailnum    248\n",
            "origin       0\n",
            "dest         0\n",
            "dtype: int64\n"
          ],
          "name": "stdout"
        }
      ]
    },
    {
      "cell_type": "code",
      "metadata": {
        "id": "XgxIc8JtSW8T"
      },
      "source": [
        "cat_df_flights = cat_df_flights.fillna(cat_df_flights['tailnum']\n",
        "                                       .value_counts().index[0])\n"
      ],
      "execution_count": null,
      "outputs": []
    },
    {
      "cell_type": "markdown",
      "metadata": {
        "id": "SFykNexxSfy3"
      },
      "source": [
        "Note the chaining of method .value_counts() in the code below. This returns the frequency distribution of each category in the feature, and then selecting the top category, which is the mode, with the .index attribute."
      ]
    },
    {
      "cell_type": "code",
      "metadata": {
        "id": "hPRu7EWTSgtk",
        "colab": {
          "base_uri": "https://localhost:8080/",
          "height": 34
        },
        "outputId": "697a8fd7-06cf-4b8c-a33b-ea0deaed85a5"
      },
      "source": [
        "cat_df_flights = cat_df_flights.fillna(cat_df_flights['tailnum'].value_counts().index[0])\n",
        "print(cat_df_flights.isnull().values.sum())"
      ],
      "execution_count": null,
      "outputs": [
        {
          "output_type": "stream",
          "text": [
            "0\n"
          ],
          "name": "stdout"
        }
      ]
    },
    {
      "cell_type": "code",
      "metadata": {
        "id": "u-5yNkzjSqdE",
        "colab": {
          "base_uri": "https://localhost:8080/",
          "height": 218
        },
        "outputId": "c62f1d7b-89c6-4971-969c-1d6a4e61c386"
      },
      "source": [
        "print(cat_df_flights['carrier'].value_counts())"
      ],
      "execution_count": null,
      "outputs": [
        {
          "output_type": "stream",
          "text": [
            "AS    62460\n",
            "WN    23355\n",
            "OO    18710\n",
            "DL    16716\n",
            "UA    16671\n",
            "AA     7586\n",
            "US     5946\n",
            "B6     3540\n",
            "VX     3272\n",
            "F9     2698\n",
            "HA     1095\n",
            "Name: carrier, dtype: int64\n"
          ],
          "name": "stdout"
        }
      ]
    },
    {
      "cell_type": "code",
      "metadata": {
        "id": "oV8CI2V2Sxfo",
        "colab": {
          "base_uri": "https://localhost:8080/",
          "height": 301
        },
        "outputId": "2bb4717a-808b-4c29-da28-f8972afb22ff"
      },
      "source": [
        "%matplotlib inline\n",
        "import seaborn as sns\n",
        "import matplotlib.pyplot as plt\n",
        "carrier_count = cat_df_flights['carrier'].value_counts()\n",
        "sns.set(style=\"darkgrid\")\n",
        "sns.barplot(carrier_count.index, carrier_count.values, alpha=0.9)\n",
        "plt.title('Frequency Distribution of Carriers')\n",
        "plt.ylabel('Number of Occurrences', fontsize=12)\n",
        "plt.xlabel('Carrier', fontsize=12)\n",
        "plt.show()"
      ],
      "execution_count": null,
      "outputs": [
        {
          "output_type": "display_data",
          "data": {
            "image/png": "[encoded data removed]",
            "text/plain": [
              "<Figure size 432x288 with 1 Axes>"
            ]
          },
          "metadata": {
            "tags": []
          }
        }
      ]
    },
    {
      "cell_type": "markdown",
      "metadata": {
        "id": "O4ejHxlyS268"
      },
      "source": [
        "## Encoding Categorical Data\n",
        "\n",
        "\n",
        "*   Replacing values\n",
        "*   Encoding labels\n",
        "*   One-Hot encoding\n",
        "*   Binary encoding\n",
        "*   Backward difference encoding\n",
        "*   Miscellaneous features\n",
        "\n",
        "\n",
        "\n",
        "\n",
        "\n",
        "\n",
        "\n"
      ]
    },
    {
      "cell_type": "code",
      "metadata": {
        "id": "Q8dJFnrPS1Sl"
      },
      "source": [
        "## Replacing Values\n",
        "replace_map = {'carrier': {'AA': 1, 'AS': 2, 'B6': 3, 'DL': 4,\n",
        "                                  'F9': 5, 'HA': 6, 'OO': 7 , 'UA': 8 , 'US': 9,'VX': 10,'WN': 11}}"
      ],
      "execution_count": null,
      "outputs": []
    },
    {
      "cell_type": "markdown",
      "metadata": {
        "id": "y7PE0IjGT6xw"
      },
      "source": [
        "Note that defining a mapping via a hard coded dictionary is easy when the number of categories is low, like in this case which is 11. You can achieve the same mapping with the help of dictionary comprehensions as shown below. This will be useful when the categories count is high and you don't want to type out each mapping. You will store the category names in a list called labels and then zip it to a seqeunce of numbers and iterate over it."
      ]
    },
    {
      "cell_type": "code",
      "metadata": {
        "id": "W4AE-KSsT8br",
        "colab": {
          "base_uri": "https://localhost:8080/",
          "height": 34
        },
        "outputId": "88f7e4e0-971a-4d1c-f1eb-c13eb201efe6"
      },
      "source": [
        "labels = cat_df_flights['carrier'].astype('category').cat.categories.tolist()\n",
        "replace_map_comp = {'carrier' : {k: v for k,v in zip(labels,list(range(1,len(labels)+1)))}}\n",
        "\n",
        "print(replace_map_comp)"
      ],
      "execution_count": null,
      "outputs": [
        {
          "output_type": "stream",
          "text": [
            "{'carrier': {'AA': 1, 'AS': 2, 'B6': 3, 'DL': 4, 'F9': 5, 'HA': 6, 'OO': 7, 'UA': 8, 'US': 9, 'VX': 10, 'WN': 11}}\n"
          ],
          "name": "stdout"
        }
      ]
    },
    {
      "cell_type": "code",
      "metadata": {
        "id": "aEewQStpUACz"
      },
      "source": [
        "cat_df_flights_replace = cat_df_flights.copy()\n"
      ],
      "execution_count": null,
      "outputs": []
    },
    {
      "cell_type": "code",
      "metadata": {
        "id": "YatW50x-UVVA",
        "colab": {
          "base_uri": "https://localhost:8080/",
          "height": 118
        },
        "outputId": "33a085ad-b5e8-4fa1-fca9-89ea38e9b845"
      },
      "source": [
        "cat_df_flights_replace.replace(replace_map_comp, inplace=True)\n",
        "\n",
        "print(cat_df_flights_replace.head())\n"
      ],
      "execution_count": null,
      "outputs": [
        {
          "output_type": "stream",
          "text": [
            "   carrier tailnum origin dest\n",
            "0        2  N508AS    PDX  ANC\n",
            "1        9  N195UW    SEA  CLT\n",
            "2        8  N37422    PDX  IAH\n",
            "3        9  N547UW    PDX  CLT\n",
            "4        2  N762AS    SEA  ANC\n"
          ],
          "name": "stdout"
        }
      ]
    },
    {
      "cell_type": "code",
      "metadata": {
        "id": "8AwQzMWcUZfj",
        "colab": {
          "base_uri": "https://localhost:8080/",
          "height": 34
        },
        "outputId": "0a98ed73-31b5-4a47-8075-434b6ffbef74"
      },
      "source": [
        "print(cat_df_flights_replace['carrier'].dtypes)\n"
      ],
      "execution_count": null,
      "outputs": [
        {
          "output_type": "stream",
          "text": [
            "int64\n"
          ],
          "name": "stdout"
        }
      ]
    },
    {
      "cell_type": "markdown",
      "metadata": {
        "id": "XnJHFm4HUeV3"
      },
      "source": [
        "## Label Encoding"
      ]
    },
    {
      "cell_type": "code",
      "metadata": {
        "id": "OIRZp-qQafS8",
        "colab": {
          "base_uri": "https://localhost:8080/",
          "height": 402
        },
        "outputId": "8e18e919-3552-468c-ac5c-0976ae22dbb2"
      },
      "source": [
        "cat_df_flights = df_flights.select_dtypes(include=['object']).copy()\n",
        "cat_df_flights"
      ],
      "execution_count": null,
      "outputs": [
        {
          "output_type": "execute_result",
          "data": {
            "text/html": [
              "<div>\n",
              "<style scoped>\n",
              "    .dataframe tbody tr th:only-of-type {\n",
              "        vertical-align: middle;\n",
              "    }\n",
              "\n",
              "    .dataframe tbody tr th {\n",
              "        vertical-align: top;\n",
              "    }\n",
              "\n",
              "    .dataframe thead th {\n",
              "        text-align: right;\n",
              "    }\n",
              "</style>\n",
              "<table border=\"1\" class=\"dataframe\">\n",
              "  <thead>\n",
              "    <tr style=\"text-align: right;\">\n",
              "      <th></th>\n",
              "      <th>carrier</th>\n",
              "      <th>tailnum</th>\n",
              "      <th>origin</th>\n",
              "      <th>dest</th>\n",
              "    </tr>\n",
              "  </thead>\n",
              "  <tbody>\n",
              "    <tr>\n",
              "      <th>0</th>\n",
              "      <td>AS</td>\n",
              "      <td>N508AS</td>\n",
              "      <td>PDX</td>\n",
              "      <td>ANC</td>\n",
              "    </tr>\n",
              "    <tr>\n",
              "      <th>1</th>\n",
              "      <td>US</td>\n",
              "      <td>N195UW</td>\n",
              "      <td>SEA</td>\n",
              "      <td>CLT</td>\n",
              "    </tr>\n",
              "    <tr>\n",
              "      <th>2</th>\n",
              "      <td>UA</td>\n",
              "      <td>N37422</td>\n",
              "      <td>PDX</td>\n",
              "      <td>IAH</td>\n",
              "    </tr>\n",
              "    <tr>\n",
              "      <th>3</th>\n",
              "      <td>US</td>\n",
              "      <td>N547UW</td>\n",
              "      <td>PDX</td>\n",
              "      <td>CLT</td>\n",
              "    </tr>\n",
              "    <tr>\n",
              "      <th>4</th>\n",
              "      <td>AS</td>\n",
              "      <td>N762AS</td>\n",
              "      <td>SEA</td>\n",
              "      <td>ANC</td>\n",
              "    </tr>\n",
              "    <tr>\n",
              "      <th>...</th>\n",
              "      <td>...</td>\n",
              "      <td>...</td>\n",
              "      <td>...</td>\n",
              "      <td>...</td>\n",
              "    </tr>\n",
              "    <tr>\n",
              "      <th>162044</th>\n",
              "      <td>UA</td>\n",
              "      <td>N477UA</td>\n",
              "      <td>PDX</td>\n",
              "      <td>IAH</td>\n",
              "    </tr>\n",
              "    <tr>\n",
              "      <th>162045</th>\n",
              "      <td>DL</td>\n",
              "      <td>N137DL</td>\n",
              "      <td>SEA</td>\n",
              "      <td>ATL</td>\n",
              "    </tr>\n",
              "    <tr>\n",
              "      <th>162046</th>\n",
              "      <td>AS</td>\n",
              "      <td>N530AS</td>\n",
              "      <td>SEA</td>\n",
              "      <td>SAN</td>\n",
              "    </tr>\n",
              "    <tr>\n",
              "      <th>162047</th>\n",
              "      <td>US</td>\n",
              "      <td>NaN</td>\n",
              "      <td>PDX</td>\n",
              "      <td>PHX</td>\n",
              "    </tr>\n",
              "    <tr>\n",
              "      <th>162048</th>\n",
              "      <td>WN</td>\n",
              "      <td>N790SW</td>\n",
              "      <td>SEA</td>\n",
              "      <td>SMF</td>\n",
              "    </tr>\n",
              "  </tbody>\n",
              "</table>\n",
              "<p>162049 rows × 4 columns</p>\n",
              "</div>"
            ],
            "text/plain": [
              "       carrier tailnum origin dest\n",
              "0           AS  N508AS    PDX  ANC\n",
              "1           US  N195UW    SEA  CLT\n",
              "2           UA  N37422    PDX  IAH\n",
              "3           US  N547UW    PDX  CLT\n",
              "4           AS  N762AS    SEA  ANC\n",
              "...        ...     ...    ...  ...\n",
              "162044      UA  N477UA    PDX  IAH\n",
              "162045      DL  N137DL    SEA  ATL\n",
              "162046      AS  N530AS    SEA  SAN\n",
              "162047      US     NaN    PDX  PHX\n",
              "162048      WN  N790SW    SEA  SMF\n",
              "\n",
              "[162049 rows x 4 columns]"
            ]
          },
          "metadata": {
            "tags": []
          },
          "execution_count": 20
        }
      ]
    },
    {
      "cell_type": "code",
      "metadata": {
        "id": "nt76ZzsZbKZL",
        "colab": {
          "base_uri": "https://localhost:8080/",
          "height": 195
        },
        "outputId": "ef109fa3-af7f-40d5-da9e-84572138e30c"
      },
      "source": [
        "\n",
        "cat_df_flights_lc = cat_df_flights\n",
        "cat_df_flights_lc.head()"
      ],
      "execution_count": null,
      "outputs": [
        {
          "output_type": "execute_result",
          "data": {
            "text/html": [
              "<div>\n",
              "<style scoped>\n",
              "    .dataframe tbody tr th:only-of-type {\n",
              "        vertical-align: middle;\n",
              "    }\n",
              "\n",
              "    .dataframe tbody tr th {\n",
              "        vertical-align: top;\n",
              "    }\n",
              "\n",
              "    .dataframe thead th {\n",
              "        text-align: right;\n",
              "    }\n",
              "</style>\n",
              "<table border=\"1\" class=\"dataframe\">\n",
              "  <thead>\n",
              "    <tr style=\"text-align: right;\">\n",
              "      <th></th>\n",
              "      <th>carrier</th>\n",
              "      <th>tailnum</th>\n",
              "      <th>origin</th>\n",
              "      <th>dest</th>\n",
              "    </tr>\n",
              "  </thead>\n",
              "  <tbody>\n",
              "    <tr>\n",
              "      <th>0</th>\n",
              "      <td>AS</td>\n",
              "      <td>N508AS</td>\n",
              "      <td>PDX</td>\n",
              "      <td>ANC</td>\n",
              "    </tr>\n",
              "    <tr>\n",
              "      <th>1</th>\n",
              "      <td>US</td>\n",
              "      <td>N195UW</td>\n",
              "      <td>SEA</td>\n",
              "      <td>CLT</td>\n",
              "    </tr>\n",
              "    <tr>\n",
              "      <th>2</th>\n",
              "      <td>UA</td>\n",
              "      <td>N37422</td>\n",
              "      <td>PDX</td>\n",
              "      <td>IAH</td>\n",
              "    </tr>\n",
              "    <tr>\n",
              "      <th>3</th>\n",
              "      <td>US</td>\n",
              "      <td>N547UW</td>\n",
              "      <td>PDX</td>\n",
              "      <td>CLT</td>\n",
              "    </tr>\n",
              "    <tr>\n",
              "      <th>4</th>\n",
              "      <td>AS</td>\n",
              "      <td>N762AS</td>\n",
              "      <td>SEA</td>\n",
              "      <td>ANC</td>\n",
              "    </tr>\n",
              "  </tbody>\n",
              "</table>\n",
              "</div>"
            ],
            "text/plain": [
              "  carrier tailnum origin dest\n",
              "0      AS  N508AS    PDX  ANC\n",
              "1      US  N195UW    SEA  CLT\n",
              "2      UA  N37422    PDX  IAH\n",
              "3      US  N547UW    PDX  CLT\n",
              "4      AS  N762AS    SEA  ANC"
            ]
          },
          "metadata": {
            "tags": []
          },
          "execution_count": 21
        }
      ]
    },
    {
      "cell_type": "code",
      "metadata": {
        "id": "LKe3zyzMUgOU",
        "colab": {
          "base_uri": "https://localhost:8080/",
          "height": 101
        },
        "outputId": "87efb701-5c89-4871-f540-6c2657152096"
      },
      "source": [
        "cat_df_flights_lc = cat_df_flights.copy()\n",
        "\n",
        "cat_df_flights_lc['carrier'] = cat_df_flights_lc['carrier'].astype('category')\n",
        "cat_df_flights_lc['origin'] = cat_df_flights_lc['origin'].astype('category')  \n",
        "\n",
        "print(cat_df_flights_lc.dtypes)"
      ],
      "execution_count": null,
      "outputs": [
        {
          "output_type": "stream",
          "text": [
            "carrier    category\n",
            "tailnum      object\n",
            "origin     category\n",
            "dest         object\n",
            "dtype: object\n"
          ],
          "name": "stdout"
        }
      ]
    },
    {
      "cell_type": "code",
      "metadata": {
        "id": "NO-bNq_NbvrR"
      },
      "source": [
        "cat_df_flights_lc['carrier'] = cat_df_flights_lc['carrier'].cat.codes\n"
      ],
      "execution_count": null,
      "outputs": []
    },
    {
      "cell_type": "code",
      "metadata": {
        "id": "vdQj5Xtmb4qv",
        "colab": {
          "base_uri": "https://localhost:8080/",
          "height": 204
        },
        "outputId": "9aa8de8f-867d-44b5-9f0c-e67582562f93"
      },
      "source": [
        "cat_df_flights_lc.head() #alphabetically labeled from 0 to 10"
      ],
      "execution_count": null,
      "outputs": [
        {
          "output_type": "execute_result",
          "data": {
            "text/html": [
              "<div>\n",
              "<style scoped>\n",
              "    .dataframe tbody tr th:only-of-type {\n",
              "        vertical-align: middle;\n",
              "    }\n",
              "\n",
              "    .dataframe tbody tr th {\n",
              "        vertical-align: top;\n",
              "    }\n",
              "\n",
              "    .dataframe thead th {\n",
              "        text-align: right;\n",
              "    }\n",
              "</style>\n",
              "<table border=\"1\" class=\"dataframe\">\n",
              "  <thead>\n",
              "    <tr style=\"text-align: right;\">\n",
              "      <th></th>\n",
              "      <th>carrier</th>\n",
              "      <th>tailnum</th>\n",
              "      <th>origin</th>\n",
              "      <th>dest</th>\n",
              "    </tr>\n",
              "  </thead>\n",
              "  <tbody>\n",
              "    <tr>\n",
              "      <th>0</th>\n",
              "      <td>1</td>\n",
              "      <td>N508AS</td>\n",
              "      <td>PDX</td>\n",
              "      <td>ANC</td>\n",
              "    </tr>\n",
              "    <tr>\n",
              "      <th>1</th>\n",
              "      <td>8</td>\n",
              "      <td>N195UW</td>\n",
              "      <td>SEA</td>\n",
              "      <td>CLT</td>\n",
              "    </tr>\n",
              "    <tr>\n",
              "      <th>2</th>\n",
              "      <td>7</td>\n",
              "      <td>N37422</td>\n",
              "      <td>PDX</td>\n",
              "      <td>IAH</td>\n",
              "    </tr>\n",
              "    <tr>\n",
              "      <th>3</th>\n",
              "      <td>8</td>\n",
              "      <td>N547UW</td>\n",
              "      <td>PDX</td>\n",
              "      <td>CLT</td>\n",
              "    </tr>\n",
              "    <tr>\n",
              "      <th>4</th>\n",
              "      <td>1</td>\n",
              "      <td>N762AS</td>\n",
              "      <td>SEA</td>\n",
              "      <td>ANC</td>\n",
              "    </tr>\n",
              "  </tbody>\n",
              "</table>\n",
              "</div>"
            ],
            "text/plain": [
              "   carrier tailnum origin dest\n",
              "0        1  N508AS    PDX  ANC\n",
              "1        8  N195UW    SEA  CLT\n",
              "2        7  N37422    PDX  IAH\n",
              "3        8  N547UW    PDX  CLT\n",
              "4        1  N762AS    SEA  ANC"
            ]
          },
          "metadata": {
            "tags": []
          },
          "execution_count": 37
        }
      ]
    },
    {
      "cell_type": "code",
      "metadata": {
        "id": "P4IEXsF2cAzD",
        "colab": {
          "base_uri": "https://localhost:8080/",
          "height": 204
        },
        "outputId": "b77ddaa5-d15d-496d-e1c3-bc229888fe10"
      },
      "source": [
        "cat_df_flights_specific = cat_df_flights.copy()\n",
        "cat_df_flights_specific['US_code'] = np.where(cat_df_flights_specific['carrier'].str.contains('US'), 1, 0)\n",
        "\n",
        "cat_df_flights_specific.head()"
      ],
      "execution_count": null,
      "outputs": [
        {
          "output_type": "execute_result",
          "data": {
            "text/html": [
              "<div>\n",
              "<style scoped>\n",
              "    .dataframe tbody tr th:only-of-type {\n",
              "        vertical-align: middle;\n",
              "    }\n",
              "\n",
              "    .dataframe tbody tr th {\n",
              "        vertical-align: top;\n",
              "    }\n",
              "\n",
              "    .dataframe thead th {\n",
              "        text-align: right;\n",
              "    }\n",
              "</style>\n",
              "<table border=\"1\" class=\"dataframe\">\n",
              "  <thead>\n",
              "    <tr style=\"text-align: right;\">\n",
              "      <th></th>\n",
              "      <th>carrier</th>\n",
              "      <th>tailnum</th>\n",
              "      <th>origin</th>\n",
              "      <th>dest</th>\n",
              "      <th>US_code</th>\n",
              "    </tr>\n",
              "  </thead>\n",
              "  <tbody>\n",
              "    <tr>\n",
              "      <th>0</th>\n",
              "      <td>AS</td>\n",
              "      <td>N508AS</td>\n",
              "      <td>PDX</td>\n",
              "      <td>ANC</td>\n",
              "      <td>0</td>\n",
              "    </tr>\n",
              "    <tr>\n",
              "      <th>1</th>\n",
              "      <td>US</td>\n",
              "      <td>N195UW</td>\n",
              "      <td>SEA</td>\n",
              "      <td>CLT</td>\n",
              "      <td>1</td>\n",
              "    </tr>\n",
              "    <tr>\n",
              "      <th>2</th>\n",
              "      <td>UA</td>\n",
              "      <td>N37422</td>\n",
              "      <td>PDX</td>\n",
              "      <td>IAH</td>\n",
              "      <td>0</td>\n",
              "    </tr>\n",
              "    <tr>\n",
              "      <th>3</th>\n",
              "      <td>US</td>\n",
              "      <td>N547UW</td>\n",
              "      <td>PDX</td>\n",
              "      <td>CLT</td>\n",
              "      <td>1</td>\n",
              "    </tr>\n",
              "    <tr>\n",
              "      <th>4</th>\n",
              "      <td>AS</td>\n",
              "      <td>N762AS</td>\n",
              "      <td>SEA</td>\n",
              "      <td>ANC</td>\n",
              "      <td>0</td>\n",
              "    </tr>\n",
              "  </tbody>\n",
              "</table>\n",
              "</div>"
            ],
            "text/plain": [
              "  carrier tailnum origin dest  US_code\n",
              "0      AS  N508AS    PDX  ANC        0\n",
              "1      US  N195UW    SEA  CLT        1\n",
              "2      UA  N37422    PDX  IAH        0\n",
              "3      US  N547UW    PDX  CLT        1\n",
              "4      AS  N762AS    SEA  ANC        0"
            ]
          },
          "metadata": {
            "tags": []
          },
          "execution_count": 38
        }
      ]
    },
    {
      "cell_type": "markdown",
      "metadata": {
        "id": "8SxtDd08cFpI"
      },
      "source": [
        "## One Hot Encoding\n",
        "\n",
        "The basic strategy is to convert each category value into a new column and assign a 1 or 0 (True/False) value to the column. This has the benefit of not weighting a value improperly.\n",
        "\n"
      ]
    },
    {
      "cell_type": "code",
      "metadata": {
        "id": "SryN43BTcMb4",
        "colab": {
          "base_uri": "https://localhost:8080/",
          "height": 151
        },
        "outputId": "dbc07646-3260-440f-c454-ba87ec561e91"
      },
      "source": [
        "cat_df_flights_onehot = cat_df_flights.copy()\n",
        "cat_df_flights_onehot = pd.get_dummies(cat_df_flights_onehot, \n",
        "                    columns=['carrier'], prefix = ['carrier'])\n",
        "\n",
        "print(cat_df_flights_onehot.head())"
      ],
      "execution_count": null,
      "outputs": [
        {
          "output_type": "stream",
          "text": [
            "  tailnum origin dest  ...  carrier_US  carrier_VX  carrier_WN\n",
            "0  N508AS    PDX  ANC  ...           0           0           0\n",
            "1  N195UW    SEA  CLT  ...           1           0           0\n",
            "2  N37422    PDX  IAH  ...           0           0           0\n",
            "3  N547UW    PDX  CLT  ...           1           0           0\n",
            "4  N762AS    SEA  ANC  ...           0           0           0\n",
            "\n",
            "[5 rows x 14 columns]\n"
          ],
          "name": "stdout"
        }
      ]
    },
    {
      "cell_type": "markdown",
      "metadata": {
        "id": "PYRA-Mf7cVhL"
      },
      "source": [
        "## Binary Encoding\n",
        "\n",
        "This technique is not as intuitive as the previous ones. In this technique, first the categories are encoded as ordinal, then those integers are converted into binary code, then the digits from that binary string are split into separate columns. This encodes the data in fewer dimensions than one-hot."
      ]
    },
    {
      "cell_type": "code",
      "metadata": {
        "id": "fP08GnBgdE9h",
        "colab": {
          "base_uri": "https://localhost:8080/",
          "height": 289
        },
        "outputId": "9a239279-c546-422f-9dc3-83a1c0cd464c"
      },
      "source": [
        "pip install category_encoders"
      ],
      "execution_count": null,
      "outputs": [
        {
          "output_type": "stream",
          "text": [
            "Collecting category_encoders\n",
            "\u001b[?25l  Downloading https://files.pythonhosted.org/packages/a0/52/c54191ad3782de633ea3d6ee3bb2837bda0cf3bc97644bb6375cf14150a0/category_encoders-2.1.0-py2.py3-none-any.whl (100kB)\n",
            "\r\u001b[K     |███▎                            | 10kB 18.0MB/s eta 0:00:01\r\u001b[K     |██████▌                         | 20kB 6.5MB/s eta 0:00:01\r\u001b[K     |█████████▉                      | 30kB 7.7MB/s eta 0:00:01\r\u001b[K     |█████████████                   | 40kB 5.9MB/s eta 0:00:01\r\u001b[K     |████████████████▍               | 51kB 7.0MB/s eta 0:00:01\r\u001b[K     |███████████████████▋            | 61kB 8.2MB/s eta 0:00:01\r\u001b[K     |██████████████████████▉         | 71kB 8.4MB/s eta 0:00:01\r\u001b[K     |██████████████████████████▏     | 81kB 7.7MB/s eta 0:00:01\r\u001b[K     |█████████████████████████████▍  | 92kB 8.5MB/s eta 0:00:01\r\u001b[K     |████████████████████████████████| 102kB 5.6MB/s \n",
            "\u001b[?25hRequirement already satisfied: scipy>=0.19.0 in /usr/local/lib/python3.6/dist-packages (from category_encoders) (1.4.1)\n",
            "Requirement already satisfied: scikit-learn>=0.20.0 in /usr/local/lib/python3.6/dist-packages (from category_encoders) (0.22.1)\n",
            "Requirement already satisfied: statsmodels>=0.6.1 in /usr/local/lib/python3.6/dist-packages (from category_encoders) (0.10.2)\n",
            "Requirement already satisfied: pandas>=0.21.1 in /usr/local/lib/python3.6/dist-packages (from category_encoders) (0.25.3)\n",
            "Requirement already satisfied: patsy>=0.4.1 in /usr/local/lib/python3.6/dist-packages (from category_encoders) (0.5.1)\n",
            "Requirement already satisfied: numpy>=1.11.3 in /usr/local/lib/python3.6/dist-packages (from category_encoders) (1.17.5)\n",
            "Requirement already satisfied: joblib>=0.11 in /usr/local/lib/python3.6/dist-packages (from scikit-learn>=0.20.0->category_encoders) (0.14.1)\n",
            "Requirement already satisfied: python-dateutil>=2.6.1 in /usr/local/lib/python3.6/dist-packages (from pandas>=0.21.1->category_encoders) (2.6.1)\n",
            "Requirement already satisfied: pytz>=2017.2 in /usr/local/lib/python3.6/dist-packages (from pandas>=0.21.1->category_encoders) (2018.9)\n",
            "Requirement already satisfied: six in /usr/local/lib/python3.6/dist-packages (from patsy>=0.4.1->category_encoders) (1.12.0)\n",
            "Installing collected packages: category-encoders\n",
            "Successfully installed category-encoders-2.1.0\n"
          ],
          "name": "stdout"
        }
      ]
    },
    {
      "cell_type": "code",
      "metadata": {
        "id": "dvaNl1_Bc9Bi",
        "colab": {
          "base_uri": "https://localhost:8080/",
          "height": 204
        },
        "outputId": "af9fff53-9c7d-4b5a-e87d-2d0b23bcc0c9"
      },
      "source": [
        "cat_df_flights_ce = cat_df_flights.copy()\n",
        "\n",
        "import category_encoders as ce\n",
        "\n",
        "encoder = ce.BinaryEncoder(cols=['carrier'])\n",
        "df_binary = encoder.fit_transform(cat_df_flights_ce)\n",
        "\n",
        "df_binary.head()"
      ],
      "execution_count": null,
      "outputs": [
        {
          "output_type": "execute_result",
          "data": {
            "text/html": [
              "<div>\n",
              "<style scoped>\n",
              "    .dataframe tbody tr th:only-of-type {\n",
              "        vertical-align: middle;\n",
              "    }\n",
              "\n",
              "    .dataframe tbody tr th {\n",
              "        vertical-align: top;\n",
              "    }\n",
              "\n",
              "    .dataframe thead th {\n",
              "        text-align: right;\n",
              "    }\n",
              "</style>\n",
              "<table border=\"1\" class=\"dataframe\">\n",
              "  <thead>\n",
              "    <tr style=\"text-align: right;\">\n",
              "      <th></th>\n",
              "      <th>carrier_0</th>\n",
              "      <th>carrier_1</th>\n",
              "      <th>carrier_2</th>\n",
              "      <th>carrier_3</th>\n",
              "      <th>carrier_4</th>\n",
              "      <th>tailnum</th>\n",
              "      <th>origin</th>\n",
              "      <th>dest</th>\n",
              "    </tr>\n",
              "  </thead>\n",
              "  <tbody>\n",
              "    <tr>\n",
              "      <th>0</th>\n",
              "      <td>0</td>\n",
              "      <td>0</td>\n",
              "      <td>0</td>\n",
              "      <td>0</td>\n",
              "      <td>1</td>\n",
              "      <td>N508AS</td>\n",
              "      <td>PDX</td>\n",
              "      <td>ANC</td>\n",
              "    </tr>\n",
              "    <tr>\n",
              "      <th>1</th>\n",
              "      <td>0</td>\n",
              "      <td>0</td>\n",
              "      <td>0</td>\n",
              "      <td>1</td>\n",
              "      <td>0</td>\n",
              "      <td>N195UW</td>\n",
              "      <td>SEA</td>\n",
              "      <td>CLT</td>\n",
              "    </tr>\n",
              "    <tr>\n",
              "      <th>2</th>\n",
              "      <td>0</td>\n",
              "      <td>0</td>\n",
              "      <td>0</td>\n",
              "      <td>1</td>\n",
              "      <td>1</td>\n",
              "      <td>N37422</td>\n",
              "      <td>PDX</td>\n",
              "      <td>IAH</td>\n",
              "    </tr>\n",
              "    <tr>\n",
              "      <th>3</th>\n",
              "      <td>0</td>\n",
              "      <td>0</td>\n",
              "      <td>0</td>\n",
              "      <td>1</td>\n",
              "      <td>0</td>\n",
              "      <td>N547UW</td>\n",
              "      <td>PDX</td>\n",
              "      <td>CLT</td>\n",
              "    </tr>\n",
              "    <tr>\n",
              "      <th>4</th>\n",
              "      <td>0</td>\n",
              "      <td>0</td>\n",
              "      <td>0</td>\n",
              "      <td>0</td>\n",
              "      <td>1</td>\n",
              "      <td>N762AS</td>\n",
              "      <td>SEA</td>\n",
              "      <td>ANC</td>\n",
              "    </tr>\n",
              "  </tbody>\n",
              "</table>\n",
              "</div>"
            ],
            "text/plain": [
              "   carrier_0  carrier_1  carrier_2  carrier_3  carrier_4 tailnum origin dest\n",
              "0          0          0          0          0          1  N508AS    PDX  ANC\n",
              "1          0          0          0          1          0  N195UW    SEA  CLT\n",
              "2          0          0          0          1          1  N37422    PDX  IAH\n",
              "3          0          0          0          1          0  N547UW    PDX  CLT\n",
              "4          0          0          0          0          1  N762AS    SEA  ANC"
            ]
          },
          "metadata": {
            "tags": []
          },
          "execution_count": 42
        }
      ]
    },
    {
      "cell_type": "markdown",
      "metadata": {
        "id": "NuU_wdaZp9fd"
      },
      "source": [
        "## Backward Difference Encoding\n",
        "This technique falls under the contrast coding system for categorical features. A feature of K categories, or levels, usually enters a regression as a sequence of K-1 dummy variables. In backward difference coding, the mean of the dependent variable for a level is compared with the mean of the dependent variable for the prior level. This type of coding may be useful for a nominal or an ordinal variable."
      ]
    },
    {
      "cell_type": "code",
      "metadata": {
        "id": "Q_Ky1kXDrddE",
        "colab": {
          "base_uri": "https://localhost:8080/",
          "height": 204
        },
        "outputId": "0acd675d-3ad3-4f5e-9abc-994a33f60f32"
      },
      "source": [
        "encoder = ce.BackwardDifferenceEncoder(cols=['carrier'])\n",
        "df_bd = encoder.fit_transform(cat_df_flights_ce)\n",
        "\n",
        "df_bd.head()"
      ],
      "execution_count": null,
      "outputs": [
        {
          "output_type": "execute_result",
          "data": {
            "text/html": [
              "<div>\n",
              "<style scoped>\n",
              "    .dataframe tbody tr th:only-of-type {\n",
              "        vertical-align: middle;\n",
              "    }\n",
              "\n",
              "    .dataframe tbody tr th {\n",
              "        vertical-align: top;\n",
              "    }\n",
              "\n",
              "    .dataframe thead th {\n",
              "        text-align: right;\n",
              "    }\n",
              "</style>\n",
              "<table border=\"1\" class=\"dataframe\">\n",
              "  <thead>\n",
              "    <tr style=\"text-align: right;\">\n",
              "      <th></th>\n",
              "      <th>intercept</th>\n",
              "      <th>carrier_0</th>\n",
              "      <th>carrier_1</th>\n",
              "      <th>carrier_2</th>\n",
              "      <th>carrier_3</th>\n",
              "      <th>carrier_4</th>\n",
              "      <th>carrier_5</th>\n",
              "      <th>carrier_6</th>\n",
              "      <th>carrier_7</th>\n",
              "      <th>carrier_8</th>\n",
              "      <th>carrier_9</th>\n",
              "      <th>tailnum</th>\n",
              "      <th>origin</th>\n",
              "      <th>dest</th>\n",
              "    </tr>\n",
              "  </thead>\n",
              "  <tbody>\n",
              "    <tr>\n",
              "      <th>0</th>\n",
              "      <td>1</td>\n",
              "      <td>-0.909091</td>\n",
              "      <td>-0.818182</td>\n",
              "      <td>-0.727273</td>\n",
              "      <td>-0.636364</td>\n",
              "      <td>-0.545455</td>\n",
              "      <td>-0.454545</td>\n",
              "      <td>-0.363636</td>\n",
              "      <td>-0.272727</td>\n",
              "      <td>-0.181818</td>\n",
              "      <td>-0.090909</td>\n",
              "      <td>N508AS</td>\n",
              "      <td>PDX</td>\n",
              "      <td>ANC</td>\n",
              "    </tr>\n",
              "    <tr>\n",
              "      <th>1</th>\n",
              "      <td>1</td>\n",
              "      <td>0.090909</td>\n",
              "      <td>-0.818182</td>\n",
              "      <td>-0.727273</td>\n",
              "      <td>-0.636364</td>\n",
              "      <td>-0.545455</td>\n",
              "      <td>-0.454545</td>\n",
              "      <td>-0.363636</td>\n",
              "      <td>-0.272727</td>\n",
              "      <td>-0.181818</td>\n",
              "      <td>-0.090909</td>\n",
              "      <td>N195UW</td>\n",
              "      <td>SEA</td>\n",
              "      <td>CLT</td>\n",
              "    </tr>\n",
              "    <tr>\n",
              "      <th>2</th>\n",
              "      <td>1</td>\n",
              "      <td>0.090909</td>\n",
              "      <td>0.181818</td>\n",
              "      <td>-0.727273</td>\n",
              "      <td>-0.636364</td>\n",
              "      <td>-0.545455</td>\n",
              "      <td>-0.454545</td>\n",
              "      <td>-0.363636</td>\n",
              "      <td>-0.272727</td>\n",
              "      <td>-0.181818</td>\n",
              "      <td>-0.090909</td>\n",
              "      <td>N37422</td>\n",
              "      <td>PDX</td>\n",
              "      <td>IAH</td>\n",
              "    </tr>\n",
              "    <tr>\n",
              "      <th>3</th>\n",
              "      <td>1</td>\n",
              "      <td>0.090909</td>\n",
              "      <td>-0.818182</td>\n",
              "      <td>-0.727273</td>\n",
              "      <td>-0.636364</td>\n",
              "      <td>-0.545455</td>\n",
              "      <td>-0.454545</td>\n",
              "      <td>-0.363636</td>\n",
              "      <td>-0.272727</td>\n",
              "      <td>-0.181818</td>\n",
              "      <td>-0.090909</td>\n",
              "      <td>N547UW</td>\n",
              "      <td>PDX</td>\n",
              "      <td>CLT</td>\n",
              "    </tr>\n",
              "    <tr>\n",
              "      <th>4</th>\n",
              "      <td>1</td>\n",
              "      <td>-0.909091</td>\n",
              "      <td>-0.818182</td>\n",
              "      <td>-0.727273</td>\n",
              "      <td>-0.636364</td>\n",
              "      <td>-0.545455</td>\n",
              "      <td>-0.454545</td>\n",
              "      <td>-0.363636</td>\n",
              "      <td>-0.272727</td>\n",
              "      <td>-0.181818</td>\n",
              "      <td>-0.090909</td>\n",
              "      <td>N762AS</td>\n",
              "      <td>SEA</td>\n",
              "      <td>ANC</td>\n",
              "    </tr>\n",
              "  </tbody>\n",
              "</table>\n",
              "</div>"
            ],
            "text/plain": [
              "   intercept  carrier_0  carrier_1  carrier_2  ...  carrier_9  tailnum  origin  dest\n",
              "0          1  -0.909091  -0.818182  -0.727273  ...  -0.090909   N508AS     PDX   ANC\n",
              "1          1   0.090909  -0.818182  -0.727273  ...  -0.090909   N195UW     SEA   CLT\n",
              "2          1   0.090909   0.181818  -0.727273  ...  -0.090909   N37422     PDX   IAH\n",
              "3          1   0.090909  -0.818182  -0.727273  ...  -0.090909   N547UW     PDX   CLT\n",
              "4          1  -0.909091  -0.818182  -0.727273  ...  -0.090909   N762AS     SEA   ANC\n",
              "\n",
              "[5 rows x 14 columns]"
            ]
          },
          "metadata": {
            "tags": []
          },
          "execution_count": 43
        }
      ]
    },
    {
      "cell_type": "markdown",
      "metadata": {
        "id": "ciNuQOQ_QorG"
      },
      "source": [
        "[link text](https://)"
      ]
    },
    {
      "cell_type": "markdown",
      "metadata": {
        "deletable": true,
        "editable": true,
        "id": "i97Jv1uPQwPS"
      },
      "source": [
        "## Text Features\n",
        "\n",
        "Another common need in feature engineering is to convert text to a set of representative numerical values.\n",
        "For example, most automatic mining of social media data relies on some form of encoding the text as numbers.\n",
        "One of the simplest methods of encoding data is by *word counts*: you take each snippet of text, count the occurrences of each word within it, and put the results in a table.\n",
        "\n",
        "For example, consider the following set of three phrases:"
      ]
    },
    {
      "cell_type": "code",
      "metadata": {
        "deletable": true,
        "editable": true,
        "id": "cihAVmQEQwPS"
      },
      "source": [
        "sample = ['problem of evil',\n",
        "          'evil queen',\n",
        "          'horizon problem']"
      ],
      "execution_count": null,
      "outputs": []
    },
    {
      "cell_type": "markdown",
      "metadata": {
        "deletable": true,
        "editable": true,
        "id": "qGzWpU_0QwPX"
      },
      "source": [
        "For a vectorization of this data based on word count, we could construct a column representing the word \"problem,\" the word \"evil,\" the word \"horizon,\" and so on.\n",
        "While doing this by hand would be possible, the tedium can be avoided by using Scikit-Learn's ``CountVectorizer``:"
      ]
    },
    {
      "cell_type": "code",
      "metadata": {
        "deletable": true,
        "editable": true,
        "id": "zA5gxdf8QwPY",
        "colab": {
          "base_uri": "https://localhost:8080/",
          "height": 50
        },
        "outputId": "b882b141-76a9-4729-927c-2677de59844f"
      },
      "source": [
        "from sklearn.feature_extraction.text import CountVectorizer\n",
        "\n",
        "vec = CountVectorizer()\n",
        "X = vec.fit_transform(sample)\n",
        "X"
      ],
      "execution_count": null,
      "outputs": [
        {
          "output_type": "execute_result",
          "data": {
            "text/plain": [
              "<3x5 sparse matrix of type '<class 'numpy.int64'>'\n",
              "\twith 7 stored elements in Compressed Sparse Row format>"
            ]
          },
          "metadata": {
            "tags": []
          },
          "execution_count": 27
        }
      ]
    },
    {
      "cell_type": "markdown",
      "metadata": {
        "deletable": true,
        "editable": true,
        "id": "zlddKEAZQwPb"
      },
      "source": [
        "The result is a sparse matrix recording the number of times each word appears; it is easier to inspect if we convert this to a ``DataFrame`` with labeled columns:"
      ]
    },
    {
      "cell_type": "code",
      "metadata": {
        "id": "y70EDj7iGUsS"
      },
      "source": [
        ""
      ],
      "execution_count": null,
      "outputs": []
    },
    {
      "cell_type": "code",
      "metadata": {
        "deletable": true,
        "editable": true,
        "id": "STAjX2ClQwPc",
        "colab": {
          "base_uri": "https://localhost:8080/",
          "height": 136
        },
        "outputId": "0a6fd88d-ecbb-44b9-f4f3-67ee480bcd9c"
      },
      "source": [
        "import pandas as pd\n",
        "pd.DataFrame(X.toarray(), columns=vec.get_feature_names())"
      ],
      "execution_count": null,
      "outputs": [
        {
          "output_type": "execute_result",
          "data": {
            "text/html": [
              "<div>\n",
              "<style scoped>\n",
              "    .dataframe tbody tr th:only-of-type {\n",
              "        vertical-align: middle;\n",
              "    }\n",
              "\n",
              "    .dataframe tbody tr th {\n",
              "        vertical-align: top;\n",
              "    }\n",
              "\n",
              "    .dataframe thead th {\n",
              "        text-align: right;\n",
              "    }\n",
              "</style>\n",
              "<table border=\"1\" class=\"dataframe\">\n",
              "  <thead>\n",
              "    <tr style=\"text-align: right;\">\n",
              "      <th></th>\n",
              "      <th>evil</th>\n",
              "      <th>horizon</th>\n",
              "      <th>of</th>\n",
              "      <th>problem</th>\n",
              "      <th>queen</th>\n",
              "    </tr>\n",
              "  </thead>\n",
              "  <tbody>\n",
              "    <tr>\n",
              "      <th>0</th>\n",
              "      <td>1</td>\n",
              "      <td>0</td>\n",
              "      <td>1</td>\n",
              "      <td>1</td>\n",
              "      <td>0</td>\n",
              "    </tr>\n",
              "    <tr>\n",
              "      <th>1</th>\n",
              "      <td>1</td>\n",
              "      <td>0</td>\n",
              "      <td>0</td>\n",
              "      <td>0</td>\n",
              "      <td>1</td>\n",
              "    </tr>\n",
              "    <tr>\n",
              "      <th>2</th>\n",
              "      <td>0</td>\n",
              "      <td>1</td>\n",
              "      <td>0</td>\n",
              "      <td>1</td>\n",
              "      <td>0</td>\n",
              "    </tr>\n",
              "  </tbody>\n",
              "</table>\n",
              "</div>"
            ],
            "text/plain": [
              "   evil  horizon  of  problem  queen\n",
              "0     1        0   1        1      0\n",
              "1     1        0   0        0      1\n",
              "2     0        1   0        1      0"
            ]
          },
          "metadata": {
            "tags": []
          },
          "execution_count": 28
        }
      ]
    },
    {
      "cell_type": "markdown",
      "metadata": {
        "deletable": true,
        "editable": true,
        "id": "wpi4rpRIQwPf"
      },
      "source": [
        "There are some issues with this approach, however: the raw word counts lead to features which put too much weight on words that appear very frequently, and this can be sub-optimal in some classification algorithms.\n",
        "One approach to fix this is known as *term frequency-inverse document frequency* (*TF–IDF*) which weights the word counts by a measure of how often they appear in the documents.\n",
        "The syntax for computing these features is similar to the previous example:"
      ]
    },
    {
      "cell_type": "code",
      "metadata": {
        "deletable": true,
        "editable": true,
        "id": "Gd2ZRaG5QwPg",
        "outputId": "09bff238-e198-4589-d181-87ea7e5e5cb5"
      },
      "source": [
        "from sklearn.feature_extraction.text import TfidfVectorizer\n",
        "vec = TfidfVectorizer()\n",
        "X = vec.fit_transform(sample)\n",
        "pd.DataFrame(X.toarray(), columns=vec.get_feature_names())"
      ],
      "execution_count": null,
      "outputs": [
        {
          "output_type": "execute_result",
          "data": {
            "text/html": [
              "<div>\n",
              "<table border=\"1\" class=\"dataframe\">\n",
              "  <thead>\n",
              "    <tr style=\"text-align: right;\">\n",
              "      <th></th>\n",
              "      <th>evil</th>\n",
              "      <th>horizon</th>\n",
              "      <th>of</th>\n",
              "      <th>problem</th>\n",
              "      <th>queen</th>\n",
              "    </tr>\n",
              "  </thead>\n",
              "  <tbody>\n",
              "    <tr>\n",
              "      <th>0</th>\n",
              "      <td>0.517856</td>\n",
              "      <td>0.000000</td>\n",
              "      <td>0.680919</td>\n",
              "      <td>0.517856</td>\n",
              "      <td>0.000000</td>\n",
              "    </tr>\n",
              "    <tr>\n",
              "      <th>1</th>\n",
              "      <td>0.605349</td>\n",
              "      <td>0.000000</td>\n",
              "      <td>0.000000</td>\n",
              "      <td>0.000000</td>\n",
              "      <td>0.795961</td>\n",
              "    </tr>\n",
              "    <tr>\n",
              "      <th>2</th>\n",
              "      <td>0.000000</td>\n",
              "      <td>0.795961</td>\n",
              "      <td>0.000000</td>\n",
              "      <td>0.605349</td>\n",
              "      <td>0.000000</td>\n",
              "    </tr>\n",
              "  </tbody>\n",
              "</table>\n",
              "</div>"
            ],
            "text/plain": [
              "       evil   horizon        of   problem     queen\n",
              "0  0.517856  0.000000  0.680919  0.517856  0.000000\n",
              "1  0.605349  0.000000  0.000000  0.000000  0.795961\n",
              "2  0.000000  0.795961  0.000000  0.605349  0.000000"
            ]
          },
          "metadata": {
            "tags": []
          },
          "execution_count": 9
        }
      ]
    },
    {
      "cell_type": "markdown",
      "metadata": {
        "deletable": true,
        "editable": true,
        "id": "XOkbHcpwQwPk"
      },
      "source": [
        "\n",
        "\n",
        "> TF: Term Frequency, which measures how frequently a term occurs in a document. Since every document is different in length, it is possible that a term would appear much more times in long documents than shorter ones. Thus, the term frequency is often divided by the document length (aka. the total number of terms in the document) as a way of normalization:\n",
        "\n",
        "TF(t) = (Number of times term t appears in a document) / (Total number of terms in the document).\n",
        "\n",
        "\n",
        "\n",
        "> IDF: Inverse Document Frequency, which measures how important a term is. While computing TF, all terms are considered equally important. However it is known that certain terms, such as \"is\", \"of\", and \"that\", may appear a lot of times but have little importance. Thus we need to weigh down the frequent terms while scale up the rare ones, by computing the following:\n",
        "\n",
        "IDF(t) = log_e(Total number of documents / Number of documents with term t in it).\n",
        "\n",
        "\n",
        "\n",
        "> Consider a document containing 100 words wherein the word cat appears 3 times. The term frequency (i.e., tf) for cat is then (3 / 100) = 0.03. Now, assume we have 10 million documents and the word cat appears in one thousand of these. Then, the inverse document frequency (i.e., idf) is calculated as log(10,000,000 / 1,000) = 4. Thus, the Tf-idf weight is the product of these quantities: 0.03 * 4 = 0.12.\n",
        "\n",
        "\n",
        "\n",
        "\n",
        "\n",
        "\n"
      ]
    },
    {
      "cell_type": "markdown",
      "metadata": {
        "deletable": true,
        "editable": true,
        "id": "q-ssRDg6QwPl"
      },
      "source": [
        "## Image Features\n",
        "\n",
        "Another common need is to suitably encode *images* for machine learning analysis.\n",
        "The simplest approach is what we used for the digits data in [Introducing Scikit-Learn](05.02-Introducing-Scikit-Learn.ipynb): simply using the pixel values themselves.\n",
        "But depending on the application, such approaches may not be optimal.\n",
        "\n",
        "A comprehensive summary of feature extraction techniques for images is well beyond the scope of this section, but you can find excellent implementations of many of the standard approaches in the [Scikit-Image project](http://scikit-image.org).\n",
        "For one example of using Scikit-Learn and Scikit-Image together, see [Feature Engineering: Working with Images](05.14-Image-Features.ipynb)."
      ]
    },
    {
      "cell_type": "markdown",
      "metadata": {
        "deletable": true,
        "editable": true,
        "id": "guXOLapSQwPn"
      },
      "source": [
        "## Derived Features\n",
        "\n",
        "Another useful type of feature is one that is mathematically derived from some input features.\n",
        "We saw an example of this in [Hyperparameters and Model Validation](05.03-Hyperparameters-and-Model-Validation.ipynb) when we constructed *polynomial features* from our input data.\n",
        "We saw that we could convert a linear regression into a polynomial regression not by changing the model, but by transforming the input!\n",
        "This is sometimes known as *basis function regression*, and is explored further in [In Depth: Linear Regression](05.06-Linear-Regression.ipynb).\n",
        "\n",
        "For example, this data clearly cannot be well described by a straight line:"
      ]
    },
    {
      "cell_type": "code",
      "metadata": {
        "deletable": true,
        "editable": true,
        "id": "Tvlh5orkQwPo",
        "outputId": "d03d35d5-ae4b-4efa-c8e0-8c2d36a8ab6a"
      },
      "source": [
        "%matplotlib inline\n",
        "import numpy as np\n",
        "import matplotlib.pyplot as plt\n",
        "\n",
        "x = np.array([1, 2, 3, 4, 5])\n",
        "y = np.array([4, 2, 1, 3, 7])\n",
        "plt.scatter(x, y);"
      ],
      "execution_count": null,
      "outputs": [
        {
          "output_type": "display_data",
          "data": {
            "image/png": "[encoded data removed]",
            "text/plain": [
              "<matplotlib.figure.Figure at 0x114836550>"
            ]
          },
          "metadata": {
            "tags": []
          }
        }
      ]
    },
    {
      "cell_type": "markdown",
      "metadata": {
        "deletable": true,
        "editable": true,
        "id": "3GzSVJIcQwPs"
      },
      "source": [
        "Still, we can fit a line to the data using ``LinearRegression`` and get the optimal result:"
      ]
    },
    {
      "cell_type": "code",
      "metadata": {
        "deletable": true,
        "editable": true,
        "id": "nlB4_4CyQwPt",
        "outputId": "edf6f931-a217-439f-e2bf-9762961e6d08"
      },
      "source": [
        "from sklearn.linear_model import LinearRegression\n",
        "X = x[:, np.newaxis]\n",
        "model = LinearRegression().fit(X, y)\n",
        "yfit = model.predict(X)\n",
        "plt.scatter(x, y)\n",
        "plt.plot(x, yfit);"
      ],
      "execution_count": null,
      "outputs": [
        {
          "output_type": "display_data",
          "data": {
            "image/png": "[encoded data removed]",
            "text/plain": [
              "<matplotlib.figure.Figure at 0x1143bf2b0>"
            ]
          },
          "metadata": {
            "tags": []
          }
        }
      ]
    },
    {
      "cell_type": "markdown",
      "metadata": {
        "deletable": true,
        "editable": true,
        "id": "LkNFq9qJQwPx"
      },
      "source": [
        "It's clear that we need a more sophisticated model to describe the relationship between $x$ and $y$.\n",
        "\n",
        "One approach to this is to transform the data, adding extra columns of features to drive more flexibility in the model.\n",
        "For example, we can add polynomial features to the data this way:"
      ]
    },
    {
      "cell_type": "code",
      "metadata": {
        "deletable": true,
        "editable": true,
        "id": "OOH5k_acQwPy",
        "outputId": "9b03701b-dcbd-4ceb-cd73-6850ebbb2ddd"
      },
      "source": [
        "from sklearn.preprocessing import PolynomialFeatures\n",
        "poly = PolynomialFeatures(degree=3, include_bias=False)\n",
        "X2 = poly.fit_transform(X)\n",
        "print(X2)"
      ],
      "execution_count": null,
      "outputs": [
        {
          "output_type": "stream",
          "text": [
            "[[   1.    1.    1.]\n",
            " [   2.    4.    8.]\n",
            " [   3.    9.   27.]\n",
            " [   4.   16.   64.]\n",
            " [   5.   25.  125.]]\n"
          ],
          "name": "stdout"
        }
      ]
    },
    {
      "cell_type": "markdown",
      "metadata": {
        "deletable": true,
        "editable": true,
        "id": "5XqYfpSoQwP2"
      },
      "source": [
        "The derived feature matrix has one column representing $x$, and a second column representing $x^2$, and a third column representing $x^3$.\n",
        "Computing a linear regression on this expanded input gives a much closer fit to our data:"
      ]
    },
    {
      "cell_type": "code",
      "metadata": {
        "deletable": true,
        "editable": true,
        "id": "yUcElsDyQwP3",
        "outputId": "294b5334-932c-43d0-e7e8-b32cbe699ba3"
      },
      "source": [
        "model = LinearRegression().fit(X2, y)\n",
        "yfit = model.predict(X2)\n",
        "plt.scatter(x, y)\n",
        "plt.plot(x, yfit);"
      ],
      "execution_count": null,
      "outputs": [
        {
          "output_type": "display_data",
          "data": {
            "image/png": "[encoded data removed]",
            "text/plain": [
              "<matplotlib.figure.Figure at 0x114819c50>"
            ]
          },
          "metadata": {
            "tags": []
          }
        }
      ]
    },
    {
      "cell_type": "markdown",
      "metadata": {
        "deletable": true,
        "editable": true,
        "id": "5eX3D9eDQwP6"
      },
      "source": [
        "This idea of improving a model not by changing the model, but by transforming the inputs, is fundamental to many of the more powerful machine learning methods.\n",
        "We explore this idea further in [In Depth: Linear Regression](05.06-Linear-Regression.ipynb) in the context of *basis function regression*.\n",
        "More generally, this is one motivational path to the powerful set of techniques known as *kernel methods*, which we will explore in [In-Depth: Support Vector Machines](05.07-Support-Vector-Machines.ipynb)."
      ]
    },
    {
      "cell_type": "markdown",
      "metadata": {
        "deletable": true,
        "editable": true,
        "id": "KaAFe2jHQwP7"
      },
      "source": [
        "## Imputation of Missing Data\n",
        "\n",
        "Another common need in feature engineering is handling of missing data.\n",
        "We discussed the handling of missing data in ``DataFrame``s in [Handling Missing Data](03.04-Missing-Values.ipynb), and saw that often the ``NaN`` value is used to mark missing values.\n",
        "For example, we might have a dataset that looks like this:"
      ]
    },
    {
      "cell_type": "code",
      "metadata": {
        "deletable": true,
        "editable": true,
        "id": "XMy5IUT5QwP8"
      },
      "source": [
        "from numpy import nan\n",
        "X = np.array([[ nan, 0,   3  ],\n",
        "              [ 3,   7,   9  ],\n",
        "              [ 3,   5,   2  ],\n",
        "              [ 4,   nan, 6  ],\n",
        "              [ 8,   8,   1  ]])\n",
        "y = np.array([14, 16, -1,  8, -5])"
      ],
      "execution_count": null,
      "outputs": []
    },
    {
      "cell_type": "markdown",
      "metadata": {
        "deletable": true,
        "editable": true,
        "id": "A3t_nqYwQwQD"
      },
      "source": [
        "When applying a typical machine learning model to such data, we will need to first replace such missing data with some appropriate fill value.\n",
        "This is known as *imputation* of missing values, and strategies range from simple (e.g., replacing missing values with the mean of the column) to sophisticated (e.g., using matrix completion or a robust model to handle such data).\n",
        "\n",
        "The sophisticated approaches tend to be very application-specific, and we won't dive into them here.\n",
        "For a baseline imputation approach, using the mean, median, or most frequent value, Scikit-Learn provides the ``Imputer`` class:"
      ]
    },
    {
      "cell_type": "code",
      "metadata": {
        "deletable": true,
        "editable": true,
        "id": "WQAujaiZQwQF",
        "outputId": "6d126624-d691-4c07-b678-e5f747d9fb2a"
      },
      "source": [
        "from sklearn.preprocessing import Imputer\n",
        "imp = Imputer(strategy='mean')\n",
        "X2 = imp.fit_transform(X)\n",
        "X2"
      ],
      "execution_count": null,
      "outputs": [
        {
          "output_type": "execute_result",
          "data": {
            "text/plain": [
              "array([[ 4.5,  0. ,  3. ],\n",
              "       [ 3. ,  7. ,  9. ],\n",
              "       [ 3. ,  5. ,  2. ],\n",
              "       [ 4. ,  5. ,  6. ],\n",
              "       [ 8. ,  8. ,  1. ]])"
            ]
          },
          "metadata": {
            "tags": []
          },
          "execution_count": 15
        }
      ]
    },
    {
      "cell_type": "markdown",
      "metadata": {
        "deletable": true,
        "editable": true,
        "id": "Ox05AWDcQwQQ"
      },
      "source": [
        "We see that in the resulting data, the two missing values have been replaced with the mean of the remaining values in the column. This imputed data can then be fed directly into, for example, a ``LinearRegression`` estimator:"
      ]
    },
    {
      "cell_type": "code",
      "metadata": {
        "deletable": true,
        "editable": true,
        "id": "jf-ztcv5QwQS",
        "outputId": "66a4f0d7-7699-41fb-f500-4085247513c8"
      },
      "source": [
        "model = LinearRegression().fit(X2, y)\n",
        "model.predict(X2)"
      ],
      "execution_count": null,
      "outputs": [
        {
          "output_type": "execute_result",
          "data": {
            "text/plain": [
              "array([ 13.14869292,  14.3784627 ,  -1.15539732,  10.96606197,  -5.33782027])"
            ]
          },
          "metadata": {
            "tags": []
          },
          "execution_count": 16
        }
      ]
    },
    {
      "cell_type": "markdown",
      "metadata": {
        "deletable": true,
        "editable": true,
        "id": "mYkf2TCVQwQV"
      },
      "source": [
        "## Feature Pipelines\n",
        "\n",
        "With any of the preceding examples, it can quickly become tedious to do the transformations by hand, especially if you wish to string together multiple steps.\n",
        "For example, we might want a processing pipeline that looks something like this:\n",
        "\n",
        "1. Impute missing values using the mean\n",
        "2. Transform features to quadratic\n",
        "3. Fit a linear regression\n",
        "\n",
        "To streamline this type of processing pipeline, Scikit-Learn provides a ``Pipeline`` object, which can be used as follows:"
      ]
    },
    {
      "cell_type": "code",
      "metadata": {
        "deletable": true,
        "editable": true,
        "id": "fMNvIQm7QwQW"
      },
      "source": [
        "from sklearn.pipeline import make_pipeline\n",
        "\n",
        "model = make_pipeline(Imputer(strategy='mean'),\n",
        "                      PolynomialFeatures(degree=2),\n",
        "                      LinearRegression())"
      ],
      "execution_count": null,
      "outputs": []
    },
    {
      "cell_type": "markdown",
      "metadata": {
        "deletable": true,
        "editable": true,
        "id": "VBeYnMBcQwQZ"
      },
      "source": [
        "This pipeline looks and acts like a standard Scikit-Learn object, and will apply all the specified steps to any input data."
      ]
    },
    {
      "cell_type": "code",
      "metadata": {
        "deletable": true,
        "editable": true,
        "id": "oKWmpFn1QwQb",
        "outputId": "ba3767bf-67a7-408f-c155-e903df177e05"
      },
      "source": [
        "model.fit(X, y)  # X with missing values, from above\n",
        "print(y)\n",
        "print(model.predict(X))"
      ],
      "execution_count": null,
      "outputs": [
        {
          "output_type": "stream",
          "text": [
            "[14 16 -1  8 -5]\n",
            "[ 14.  16.  -1.   8.  -5.]\n"
          ],
          "name": "stdout"
        }
      ]
    },
    {
      "cell_type": "markdown",
      "metadata": {
        "deletable": true,
        "editable": true,
        "id": "VQAFtHVlQwQg"
      },
      "source": [
        "All the steps of the model are applied automatically.\n",
        "Notice that for the simplicity of this demonstration, we've applied the model to the data it was trained on; this is why it was able to perfectly predict the result (refer back to [Hyperparameters and Model Validation](05.03-Hyperparameters-and-Model-Validation.ipynb) for further discussion of this).\n",
        "\n",
        "For some examples of Scikit-Learn pipelines in action, see the following section on naive Bayes classification, as well as [In Depth: Linear Regression](05.06-Linear-Regression.ipynb), and [In-Depth: Support Vector Machines](05.07-Support-Vector-Machines.ipynb)."
      ]
    },
    {
      "cell_type": "markdown",
      "metadata": {
        "id": "f5OQUz4Gr__y"
      },
      "source": [
        "https://www.quora.com/How-valuable-do-you-think-feature-selection-is-in-machine-learning-Which-do-you-think-improves-accuracy-more-feature-selection-or-feature-engineering"
      ]
    }
  ]
}