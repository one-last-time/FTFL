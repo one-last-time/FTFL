{
  "nbformat": 4,
  "nbformat_minor": 0,
  "metadata": {
    "colab": {
      "name": "Classification.ipynb",
      "provenance": [],
      "collapsed_sections": [
        "DlkYajvbyjis",
        "69NLd0mk1POV",
        "D86AObYU2c7I",
        "c2ZAqiUm59uu",
        "TB403Uql2zea",
        "OlaLnKeS5oYx",
        "Dag9xF7cBZCU",
        "t-cdxX6oDP77",
        "qmZNgVXzF7gr"
      ],
      "include_colab_link": true
    },
    "kernelspec": {
      "name": "python3",
      "display_name": "Python 3"
    }
  },
  "cells": [
    {
      "cell_type": "markdown",
      "metadata": {
        "id": "view-in-github",
        "colab_type": "text"
      },
      "source": [
        "<a href=\"https://colab.research.google.com/github/one-last-time/FTFL/blob/main/Classification.ipynb\" target=\"_parent\"><img src=\"https://colab.research.google.com/assets/colab-badge.svg\" alt=\"Open In Colab\"/></a>"
      ]
    },
    {
      "cell_type": "markdown",
      "metadata": {
        "id": "IIz4XJ6oekHG"
      },
      "source": [
        "## MNIST\n",
        "\n",
        "\n",
        "> Here we will be using MNIST dataset, which is a set of 70,000 small images of digits handwritten by high school students and employees of the US Census Bureau. Each image is labeled with\n",
        "the digit it represents. This set has been studied so much that it is often called the “Hello World” of\n",
        "Machine Learning: whenever people come up with a new classification algorithm, they are curious to see\n",
        "how it will perform on MNIST. Whenever someone learns Machine Learning, sooner or later they tackle\n",
        "MNIST.\n",
        "\n",
        "\n"
      ]
    },
    {
      "cell_type": "code",
      "metadata": {
        "id": "aQPZkfEkem1J",
        "colab": {
          "base_uri": "https://localhost:8080/"
        },
        "outputId": "2918fe4e-bb96-40a2-c299-d7a7f6cc43db"
      },
      "source": [
        "from sklearn.datasets import fetch_openml\n",
        "mnist = fetch_openml('mnist_784')\n",
        "mnist.keys()"
      ],
      "execution_count": null,
      "outputs": [
        {
          "output_type": "stream",
          "text": [
            "/usr/local/lib/python3.6/dist-packages/sklearn/datasets/_openml.py:55: RuntimeWarning: Invalid cache, redownloading file\n",
            "  warn(\"Invalid cache, redownloading file\", RuntimeWarning)\n"
          ],
          "name": "stderr"
        },
        {
          "output_type": "execute_result",
          "data": {
            "text/plain": [
              "dict_keys(['data', 'target', 'frame', 'feature_names', 'target_names', 'DESCR', 'details', 'categories', 'url'])"
            ]
          },
          "metadata": {
            "tags": []
          },
          "execution_count": 2
        }
      ]
    },
    {
      "cell_type": "code",
      "metadata": {
        "id": "NX0rwG5VgZLF",
        "colab": {
          "base_uri": "https://localhost:8080/"
        },
        "outputId": "d7fc52cd-d5c3-487f-c496-8a66c85e443c"
      },
      "source": [
        "X, y = mnist[\"data\"], mnist[\"target\"]\n",
        "print(X.shape)\n",
        "print(y.shape)"
      ],
      "execution_count": null,
      "outputs": [
        {
          "output_type": "stream",
          "text": [
            "(70000, 784)\n",
            "(70000,)\n"
          ],
          "name": "stdout"
        }
      ]
    },
    {
      "cell_type": "code",
      "metadata": {
        "id": "2sqSvhuKmDhz",
        "colab": {
          "base_uri": "https://localhost:8080/",
          "height": 248
        },
        "outputId": "7abf0783-7e7f-45e5-f4d4-cbb6181058c2"
      },
      "source": [
        "%matplotlib inline\n",
        "import matplotlib\n",
        "import matplotlib.pyplot as plt\n",
        "\n",
        "some_digit = X[36000]\n",
        "some_digit_image = some_digit.reshape(28, 28)\n",
        "\n",
        "plt.imshow(some_digit_image, cmap = matplotlib.cm.binary,interpolation=\"nearest\")\n",
        "plt.axis(\"off\")\n",
        "plt.show()"
      ],
      "execution_count": null,
      "outputs": [
        {
          "output_type": "display_data",
          "data": {
            "image/png": "[encoded data removed]",
            "text/plain": [
              "<Figure size 432x288 with 1 Axes>"
            ]
          },
          "metadata": {
            "tags": [],
            "needs_background": "light"
          }
        }
      ]
    },
    {
      "cell_type": "code",
      "metadata": {
        "id": "ty51iErumUFl",
        "colab": {
          "base_uri": "https://localhost:8080/",
          "height": 35
        },
        "outputId": "563af66d-755e-4709-fcbe-54f391931d70"
      },
      "source": [
        " y[36000]"
      ],
      "execution_count": null,
      "outputs": [
        {
          "output_type": "execute_result",
          "data": {
            "text/plain": [
              "'9'"
            ]
          },
          "metadata": {
            "tags": []
          },
          "execution_count": 4
        }
      ]
    },
    {
      "cell_type": "markdown",
      "metadata": {
        "id": "v43IJjSOmdui"
      },
      "source": [
        "We can create a test set and set it aside before inspecting the data closely. The\n",
        "MNIST dataset is actually already split into a training set (the first 60,000 images) and a test set (the last\n",
        "10,000 images):"
      ]
    },
    {
      "cell_type": "code",
      "metadata": {
        "id": "y83oWwQSmhHD"
      },
      "source": [
        "X_train, X_test, y_train, y_test = X[:60000], X[60000:], y[:60000], y[60000:]"
      ],
      "execution_count": null,
      "outputs": []
    },
    {
      "cell_type": "markdown",
      "metadata": {
        "id": "6LbOWlGYmsIS"
      },
      "source": [
        "Let’s also shuffle the training set; this will guarantee that all cross-validation folds will be similar (you\n",
        "don’t want one fold to be missing some digits). Moreover, some learning algorithms are sensitive to the\n",
        "order of the training instances, and they perform poorly if they get many similar instances in a row."
      ]
    },
    {
      "cell_type": "code",
      "metadata": {
        "id": "mgLirMV2WI7M",
        "colab": {
          "base_uri": "https://localhost:8080/",
          "height": 35
        },
        "outputId": "a5c98eb2-5ff5-47e0-ad05-2217ecf1ceed"
      },
      "source": [
        "y_train[0]"
      ],
      "execution_count": null,
      "outputs": [
        {
          "output_type": "execute_result",
          "data": {
            "text/plain": [
              "'9'"
            ]
          },
          "metadata": {
            "tags": []
          },
          "execution_count": 10
        }
      ]
    },
    {
      "cell_type": "code",
      "metadata": {
        "id": "jA8wuGWgV5zk",
        "colab": {
          "base_uri": "https://localhost:8080/",
          "height": 1000
        },
        "outputId": "27d3142f-6bb6-4081-e408-94ddd6363aa6"
      },
      "source": [
        "X_train[0]"
      ],
      "execution_count": null,
      "outputs": [
        {
          "output_type": "execute_result",
          "data": {
            "text/plain": [
              "array([  0.,   0.,   0.,   0.,   0.,   0.,   0.,   0.,   0.,   0.,   0.,\n",
              "         0.,   0.,   0.,   0.,   0.,   0.,   0.,   0.,   0.,   0.,   0.,\n",
              "         0.,   0.,   0.,   0.,   0.,   0.,   0.,   0.,   0.,   0.,   0.,\n",
              "         0.,   0.,   0.,   0.,   0.,   0.,   0.,   0.,   0.,   0.,   0.,\n",
              "         0.,   0.,   0.,   0.,   0.,   0.,   0.,   0.,   0.,   0.,   0.,\n",
              "         0.,   0.,   0.,   0.,   0.,   0.,   0.,   0.,   0.,   0.,   0.,\n",
              "         0.,   0.,   0.,   0.,   0.,   0.,   0.,   0.,   0.,   0.,   0.,\n",
              "         0.,   0.,   0.,   0.,   0.,   0.,   0.,   0.,   0.,   0.,   0.,\n",
              "         0.,   0.,   0.,   0.,   0.,   0.,   0.,   0.,   0.,   0.,   0.,\n",
              "         0.,   0.,   0.,   0.,   0.,   0.,   0.,   0.,   0.,   0.,   0.,\n",
              "         0.,   0.,   0.,   0.,   0.,   0.,   0.,   0.,   0.,   0.,   0.,\n",
              "         0.,   0.,   0.,   0.,   0.,   0.,   0.,   0.,   0.,   0.,   0.,\n",
              "         0.,   0.,   0.,   0.,   0.,   0.,   0.,   0.,   0.,   0.,   0.,\n",
              "         0.,   0.,   0.,   0.,   0.,   0.,   0.,   0.,   0.,   0.,   0.,\n",
              "         0.,   0.,   0.,   0.,   0.,   0.,   0.,   0.,   0.,   0.,   0.,\n",
              "         0.,   0.,   0.,   0.,   0.,   0.,   0.,   0.,   0.,   0.,   0.,\n",
              "         0.,   0.,   0.,  73., 250., 254., 173., 226., 254.,  77.,   0.,\n",
              "         0.,   0.,   0.,   0.,   0.,   0.,   0.,   0.,   0.,   0.,   0.,\n",
              "         0.,   0.,   0.,   0.,   0.,   0.,   0.,   0.,  33., 224., 240.,\n",
              "        71.,   0.,  14., 195., 197.,   8.,   0.,   0.,   0.,   0.,   0.,\n",
              "         0.,   0.,   0.,   0.,   0.,   0.,   0.,   0.,   0.,   0.,   0.,\n",
              "         0.,   0.,   0., 121., 253.,  84.,   0.,   0.,   0., 128., 247.,\n",
              "       228.,   0.,   0.,   0.,   0.,   0.,   0.,   0.,   0.,   0.,   0.,\n",
              "         0.,   0.,   0.,   0.,   0.,   0.,   0.,   0.,  29., 240., 172.,\n",
              "         1.,   0.,   0.,   0., 128., 253., 253.,   0.,   0.,   0.,   0.,\n",
              "         0.,   0.,   0.,   0.,   0.,   0.,   0.,   0.,   0.,   0.,   0.,\n",
              "         0.,   0.,   0., 102., 253., 107.,   0.,   0.,   0.,   0., 128.,\n",
              "       253., 214.,   0.,   0.,   0.,   0.,   0.,   0.,   0.,   0.,   0.,\n",
              "         0.,   0.,   0.,   0.,   0.,   0.,   0.,   0.,   0., 215., 232.,\n",
              "        16.,   0.,   0.,   0.,   0., 139., 254., 113.,   0.,   0.,   0.,\n",
              "         0.,   0.,   0.,   0.,   0.,   0.,   0.,   0.,   0.,   0.,   0.,\n",
              "         0.,   0.,   0.,   0., 254., 168.,   0.,   0.,   0.,   0.,  60.,\n",
              "       247., 253., 171.,   0.,   0.,   0.,   0.,   0.,   0.,   0.,   0.,\n",
              "         0.,   0.,   0.,   0.,   0.,   0.,   0.,   0.,   0.,  16., 254.,\n",
              "       168.,   0.,   0.,   0.,  49., 231., 253., 180.,  61.,   0.,   0.,\n",
              "         0.,   0.,   0.,   0.,   0.,   0.,   0.,   0.,   0.,   0.,   0.,\n",
              "         0.,   0.,   0.,   0.,  63., 254., 168.,   0.,   4., 107., 246.,\n",
              "       253., 253.,  77.,   4.,   0.,   0.,   0.,   0.,   0.,   0.,   0.,\n",
              "         0.,   0.,   0.,   0.,   0.,   0.,   0.,   0.,   0.,   0.,   0.,\n",
              "       254., 239., 156., 212., 253., 211., 218., 253.,  14.,   0.,   0.,\n",
              "         0.,   0.,   0.,   0.,   0.,   0.,   0.,   0.,   0.,   0.,   0.,\n",
              "         0.,   0.,   0.,   0.,   0.,   0.,  95., 249., 254., 237., 133.,\n",
              "         0., 226., 254.,  14.,   0.,   0.,   0.,   0.,   0.,   0.,   0.,\n",
              "         0.,   0.,   0.,   0.,   0.,   0.,   0.,   0.,   0.,   0.,   0.,\n",
              "         0.,   0.,  25.,  48.,  17.,   0.,  15., 235., 203.,   2.,   0.,\n",
              "         0.,   0.,   0.,   0.,   0.,   0.,   0.,   0.,   0.,   0.,   0.,\n",
              "         0.,   0.,   0.,   0.,   0.,   0.,   0.,   0.,   0.,   0.,   0.,\n",
              "         0.,  59., 253., 161.,   0.,   0.,   0.,   0.,   0.,   0.,   0.,\n",
              "         0.,   0.,   0.,   0.,   0.,   0.,   0.,   0.,   0.,   0.,   0.,\n",
              "         0.,   0.,   0.,   0.,   0.,   0.,   0., 140., 253.,  99.,   0.,\n",
              "         0.,   0.,   0.,   0.,   0.,   0.,   0.,   0.,   0.,   0.,   0.,\n",
              "         0.,   0.,   0.,   0.,   0.,   0.,   0.,   0.,   0.,   0.,   0.,\n",
              "         0.,   0., 242., 253.,  56.,   0.,   0.,   0.,   0.,   0.,   0.,\n",
              "         0.,   0.,   0.,   0.,   0.,   0.,   0.,   0.,   0.,   0.,   0.,\n",
              "         0.,   0.,   0.,   0.,   0.,   0.,   0.,  32., 255., 224.,  16.,\n",
              "         0.,   0.,   0.,   0.,   0.,   0.,   0.,   0.,   0.,   0.,   0.,\n",
              "         0.,   0.,   0.,   0.,   0.,   0.,   0.,   0.,   0.,   0.,   0.,\n",
              "         0.,   0., 114., 254., 176.,   0.,   0.,   0.,   0.,   0.,   0.,\n",
              "         0.,   0.,   0.,   0.,   0.,   0.,   0.,   0.,   0.,   0.,   0.,\n",
              "         0.,   0.,   0.,   0.,   0.,   0.,   0.,   0., 176., 254.,  98.,\n",
              "         0.,   0.,   0.,   0.,   0.,   0.,   0.,   0.,   0.,   0.,   0.,\n",
              "         0.,   0.,   0.,   0.,   0.,   0.,   0.,   0.,   0.,   0.,   0.,\n",
              "         0.,   0.,  12., 228., 225.,  10.,   0.,   0.,   0.,   0.,   0.,\n",
              "         0.,   0.,   0.,   0.,   0.,   0.,   0.,   0.,   0.,   0.,   0.,\n",
              "         0.,   0.,   0.,   0.,   0.,   0.,   0.,   0.,  13., 230., 192.,\n",
              "         0.,   0.,   0.,   0.,   0.,   0.,   0.,   0.,   0.,   0.,   0.,\n",
              "         0.,   0.,   0.,   0.,   0.,   0.,   0.,   0.,   0.,   0.,   0.,\n",
              "         0.,   0.,   0.,   0.,   0.,   0.,   0.,   0.,   0.,   0.,   0.,\n",
              "         0.,   0.,   0.,   0.,   0.,   0.,   0.,   0.,   0.,   0.,   0.,\n",
              "         0.,   0.,   0.,   0.,   0.,   0.,   0.,   0.,   0.,   0.,   0.,\n",
              "         0.,   0.,   0.,   0.,   0.,   0.,   0.,   0.,   0.,   0.,   0.,\n",
              "         0.,   0.,   0.])"
            ]
          },
          "metadata": {
            "tags": []
          },
          "execution_count": 9
        }
      ]
    },
    {
      "cell_type": "code",
      "metadata": {
        "id": "h8_7trMfmrRj"
      },
      "source": [
        "import numpy as np\n",
        "\n",
        "shuffle_index = np.random.permutation(60000)\n",
        "X_train, y_train = X_train[shuffle_index], y_train[shuffle_index]"
      ],
      "execution_count": null,
      "outputs": []
    },
    {
      "cell_type": "code",
      "metadata": {
        "id": "rE4T3nnAV06-",
        "colab": {
          "base_uri": "https://localhost:8080/",
          "height": 35
        },
        "outputId": "bd28ce6b-7dc1-453d-8d4c-18694e14a7c7"
      },
      "source": [
        "X_train.shape"
      ],
      "execution_count": null,
      "outputs": [
        {
          "output_type": "execute_result",
          "data": {
            "text/plain": [
              "(60000, 784)"
            ]
          },
          "metadata": {
            "tags": []
          },
          "execution_count": 13
        }
      ]
    },
    {
      "cell_type": "code",
      "metadata": {
        "id": "Y2YTPpi2WaJ0",
        "colab": {
          "base_uri": "https://localhost:8080/",
          "height": 35
        },
        "outputId": "0a836dc6-a56e-4565-9f6c-d4b9cc88896e"
      },
      "source": [
        "y_train[0]"
      ],
      "execution_count": null,
      "outputs": [
        {
          "output_type": "execute_result",
          "data": {
            "text/plain": [
              "'2'"
            ]
          },
          "metadata": {
            "tags": []
          },
          "execution_count": 14
        }
      ]
    },
    {
      "cell_type": "markdown",
      "metadata": {
        "id": "5IJNdni5m26N"
      },
      "source": [
        "## Training a Binary Classifier\n",
        "Let’s simplify the problem for now and only try to identify one digit — for example, the number 5. This\n",
        "“5-detector” will be an example of a binary classifier, capable of distinguishing between just two\n",
        "classes, 5 and not-5. Let’s create the target vectors for this classification task:"
      ]
    },
    {
      "cell_type": "code",
      "metadata": {
        "id": "9RdnjAwBm9Na"
      },
      "source": [
        "y_train_5 = (y_train == '5') # True for all 5s, False for all other digits.\n",
        "y_test_5 = (y_test == '5')\n"
      ],
      "execution_count": null,
      "outputs": []
    },
    {
      "cell_type": "code",
      "metadata": {
        "id": "zI_YwEAdxuGO",
        "colab": {
          "base_uri": "https://localhost:8080/",
          "height": 221
        },
        "outputId": "39f7e36c-8839-43b7-d4ec-3b3d1338c29a"
      },
      "source": [
        "y_test_5[0:100]"
      ],
      "execution_count": null,
      "outputs": [
        {
          "output_type": "execute_result",
          "data": {
            "text/plain": [
              "array([False, False, False, False, False, False, False, False,  True,\n",
              "       False, False, False, False, False, False,  True, False, False,\n",
              "       False, False, False, False, False,  True, False, False, False,\n",
              "       False, False, False, False, False, False, False, False, False,\n",
              "       False, False, False, False, False, False, False, False, False,\n",
              "        True, False, False, False, False, False, False,  True,  True,\n",
              "       False, False, False, False, False,  True, False, False, False,\n",
              "       False, False, False, False, False, False, False, False, False,\n",
              "       False, False, False, False, False, False, False, False, False,\n",
              "       False, False, False, False, False, False, False, False, False,\n",
              "       False, False, False, False, False, False, False, False, False,\n",
              "       False])"
            ]
          },
          "metadata": {
            "tags": []
          },
          "execution_count": 10
        }
      ]
    },
    {
      "cell_type": "code",
      "metadata": {
        "id": "WaKSxK5wxgfL",
        "colab": {
          "base_uri": "https://localhost:8080/"
        },
        "outputId": "237c0efd-a375-4ec2-9a68-0c645f098ba9"
      },
      "source": [
        "from sklearn.linear_model import SGDClassifier  ## Stochastic Gradient Descent\n",
        "sgd_clf = SGDClassifier(random_state=42)\n",
        "sgd_clf.fit(X_train, y_train_5)"
      ],
      "execution_count": null,
      "outputs": [
        {
          "output_type": "execute_result",
          "data": {
            "text/plain": [
              "SGDClassifier(alpha=0.0001, average=False, class_weight=None,\n",
              "              early_stopping=False, epsilon=0.1, eta0=0.0, fit_intercept=True,\n",
              "              l1_ratio=0.15, learning_rate='optimal', loss='hinge',\n",
              "              max_iter=1000, n_iter_no_change=5, n_jobs=None, penalty='l2',\n",
              "              power_t=0.5, random_state=42, shuffle=True, tol=0.001,\n",
              "              validation_fraction=0.1, verbose=0, warm_start=False)"
            ]
          },
          "metadata": {
            "tags": []
          },
          "execution_count": 8
        }
      ]
    },
    {
      "cell_type": "code",
      "metadata": {
        "id": "l2ttKjoSyCmV",
        "colab": {
          "base_uri": "https://localhost:8080/",
          "height": 167
        },
        "outputId": "52df7fd0-1b04-4b58-92ea-c58e6aa5827b"
      },
      "source": [
        "sgd_clf.predict([some_digit])"
      ],
      "execution_count": null,
      "outputs": [
        {
          "output_type": "error",
          "ename": "NameError",
          "evalue": "ignored",
          "traceback": [
            "\u001b[0;31m---------------------------------------------------------------------------\u001b[0m",
            "\u001b[0;31mNameError\u001b[0m                                 Traceback (most recent call last)",
            "\u001b[0;32m<ipython-input-9-abaa02446147>\u001b[0m in \u001b[0;36m<module>\u001b[0;34m()\u001b[0m\n\u001b[0;32m----> 1\u001b[0;31m \u001b[0msgd_clf\u001b[0m\u001b[0;34m.\u001b[0m\u001b[0mpredict\u001b[0m\u001b[0;34m(\u001b[0m\u001b[0;34m[\u001b[0m\u001b[0msome_digit\u001b[0m\u001b[0;34m]\u001b[0m\u001b[0;34m)\u001b[0m\u001b[0;34m\u001b[0m\u001b[0;34m\u001b[0m\u001b[0m\n\u001b[0m",
            "\u001b[0;31mNameError\u001b[0m: name 'some_digit' is not defined"
          ]
        }
      ]
    },
    {
      "cell_type": "code",
      "metadata": {
        "colab": {
          "base_uri": "https://localhost:8080/",
          "height": 279
        },
        "id": "sMR58F2JcTL8",
        "outputId": "29026a44-04eb-445e-8769-dd6ef8d09e44"
      },
      "source": [
        "import matplotlib.pyplot as plt\n",
        "from sklearn.metrics import plot_confusion_matrix\n",
        "plot_confusion_matrix(sgd_clf,X_test, y_test_5)\n",
        "plt.show()"
      ],
      "execution_count": null,
      "outputs": [
        {
          "output_type": "display_data",
          "data": {
            "image/png": "[encoded data removed]",
            "text/plain": [
              "<Figure size 432x288 with 2 Axes>"
            ]
          },
          "metadata": {
            "tags": [],
            "needs_background": "light"
          }
        }
      ]
    },
    {
      "cell_type": "code",
      "metadata": {
        "colab": {
          "base_uri": "https://localhost:8080/"
        },
        "id": "BzmPZXZhdWhB",
        "outputId": "8df6d192-3362-449f-fab3-c19b104a3bdd"
      },
      "source": [
        "y_pred = sgd_clf.predict(X_test)\n",
        "from sklearn.metrics import classification_report, plot_roc_curve\n",
        "print(classification_report(y_test_5,y_pred))"
      ],
      "execution_count": null,
      "outputs": [
        {
          "output_type": "stream",
          "text": [
            "              precision    recall  f1-score   support\n",
            "\n",
            "       False       0.99      0.96      0.97      9108\n",
            "        True       0.66      0.88      0.76       892\n",
            "\n",
            "    accuracy                           0.95     10000\n",
            "   macro avg       0.82      0.92      0.86     10000\n",
            "weighted avg       0.96      0.95      0.95     10000\n",
            "\n"
          ],
          "name": "stdout"
        }
      ]
    },
    {
      "cell_type": "code",
      "metadata": {
        "colab": {
          "base_uri": "https://localhost:8080/",
          "height": 279
        },
        "id": "QWAEFUY5gDbN",
        "outputId": "78e8ab5c-382a-432c-de69-bb8265bdf701"
      },
      "source": [
        "plot_roc_curve(sgd_clf, X_test, y_test_5) \n",
        "plt.show()"
      ],
      "execution_count": null,
      "outputs": [
        {
          "output_type": "display_data",
          "data": {
            "image/png": "[encoded data removed]",
            "text/plain": [
              "<Figure size 432x288 with 1 Axes>"
            ]
          },
          "metadata": {
            "tags": [],
            "needs_background": "light"
          }
        }
      ]
    },
    {
      "cell_type": "markdown",
      "metadata": {
        "id": "626RQc05yPyl"
      },
      "source": [
        "## Performance Measures\n",
        "\n",
        "Evaluating a classifier is often significantly trickier than evaluating a regressor. There are many performance measures available."
      ]
    },
    {
      "cell_type": "markdown",
      "metadata": {
        "id": "DlkYajvbyjis"
      },
      "source": [
        "##  Cross-Validation\n",
        "Occasionally we need more control over the cross-validation process than what Scikit-Learn provides off-the-shelf. In these cases,\n",
        "you can implement cross-validation yourself; it is actually fairly straightforward. This cross-validation object is a variation of KFold that returns stratified folds. The folds are made by preserving the percentage of samples for each class. The following code does roughly the same thing as\n",
        "Scikit-Learn’s cross_val_score() function, and prints the same result:"
      ]
    },
    {
      "cell_type": "code",
      "metadata": {
        "id": "LAOnplfOyh6Z",
        "colab": {
          "base_uri": "https://localhost:8080/",
          "height": 72
        },
        "outputId": "85bbc0e3-d77b-40e8-8de4-6269657df579"
      },
      "source": [
        "from sklearn.model_selection import StratifiedKFold\n",
        "from sklearn.base import clone\n",
        "\n",
        "skfolds = StratifiedKFold(n_splits=3, random_state=42)"
      ],
      "execution_count": null,
      "outputs": [
        {
          "output_type": "stream",
          "text": [
            "/usr/local/lib/python3.6/dist-packages/sklearn/model_selection/_split.py:296: FutureWarning: Setting a random_state has no effect since shuffle is False. This will raise an error in 0.24. You should leave random_state to its default (None), or set shuffle=True.\n",
            "  FutureWarning\n"
          ],
          "name": "stderr"
        }
      ]
    },
    {
      "cell_type": "code",
      "metadata": {
        "id": "mGwaTvfUyZZC",
        "colab": {
          "base_uri": "https://localhost:8080/",
          "height": 68
        },
        "outputId": "fd4e7ce0-b60a-48bd-9ba9-cf73c5e030a6"
      },
      "source": [
        "for train_index, test_index in skfolds.split(X_train, y_train_5):\n",
        "  clone_clf = clone(sgd_clf)\n",
        "  X_train_folds = X_train[train_index]\n",
        "  y_train_folds = (y_train_5[train_index])\n",
        "  X_test_fold = X_train[test_index]\n",
        "  y_test_fold = (y_train_5[test_index])\n",
        "  clone_clf.fit(X_train_folds, y_train_folds)\n",
        "  y_pred = clone_clf.predict(X_test_fold)\n",
        "  n_correct = sum(y_pred == y_test_fold)\n",
        "  print(n_correct / len(y_pred))\n",
        "  "
      ],
      "execution_count": null,
      "outputs": [
        {
          "output_type": "stream",
          "text": [
            "0.9674\n",
            "0.95085\n",
            "0.94055\n"
          ],
          "name": "stdout"
        }
      ]
    },
    {
      "cell_type": "markdown",
      "metadata": {
        "id": "VOF6_jr-zpLq"
      },
      "source": [
        "The StratifiedKFold class performs stratified sampling to produce folds that contain a representative ratio\n",
        "of each class. At each iteration the code creates a clone of the classifier, trains that clone on the training folds, and makes predictions on\n",
        "the test fold. Then it counts the number of correct predictions and outputs the ratio of correct predictions.\n"
      ]
    },
    {
      "cell_type": "code",
      "metadata": {
        "id": "MufJg62Tzttq",
        "colab": {
          "base_uri": "https://localhost:8080/",
          "height": 34
        },
        "outputId": "a470a257-2d3e-4d55-9ace-30b0455070fe"
      },
      "source": [
        "from sklearn.model_selection import cross_val_score\n",
        "cross_val_score(sgd_clf, X_train, y_train_5, cv=3, scoring=\"accuracy\")"
      ],
      "execution_count": null,
      "outputs": [
        {
          "output_type": "execute_result",
          "data": {
            "text/plain": [
              "array([0.9671, 0.9543, 0.9642])"
            ]
          },
          "metadata": {
            "tags": []
          },
          "execution_count": 14
        }
      ]
    },
    {
      "cell_type": "code",
      "metadata": {
        "id": "sn3EnslS0g15"
      },
      "source": [
        ""
      ],
      "execution_count": null,
      "outputs": []
    },
    {
      "cell_type": "markdown",
      "metadata": {
        "id": "69NLd0mk1POV"
      },
      "source": [
        "## Confusion Matrix\n",
        "A much better way to evaluate the performance of a classifier is to look at the confusion matrix. The\n",
        "general idea is to count the number of times instances of class A are classified as class B. For example, to\n",
        "know the number of times the classifier confused images of 5s with 3s, you would look in the 5\n",
        "th\n",
        "row and\n",
        "3\n",
        "rd column of the confusion matrix\n",
        "\n",
        "![alt text](https://miro.medium.com/max/1780/1*LQ1YMKBlbDhH9K6Ujz8QTw.jpeg)"
      ]
    },
    {
      "cell_type": "markdown",
      "metadata": {
        "id": "Q9lO4CBn1k3t"
      },
      "source": [
        "To compute the confusion matrix, you first need to have a set of predictions, so they can be compared to\n",
        "the actual targets. You could make predictions on the test set, but let’s keep it untouched for now"
      ]
    },
    {
      "cell_type": "code",
      "metadata": {
        "id": "hQi04Whf1pwd"
      },
      "source": [
        "from sklearn.model_selection import cross_val_predict\n",
        "y_train_pred = cross_val_predict(sgd_clf, X_train, y_train_5, cv=3)"
      ],
      "execution_count": null,
      "outputs": []
    },
    {
      "cell_type": "markdown",
      "metadata": {
        "id": "4aFYaaMt1vLb"
      },
      "source": [
        "Just like the cross_val_score() function, cross_val_predict() performs K-fold cross-validation,\n",
        "but instead of returning the evaluation scores, it returns the predictions made on each test fold. This means\n",
        "that you get a clean prediction for each instance in the training set"
      ]
    },
    {
      "cell_type": "code",
      "metadata": {
        "id": "5W9hYVoo11Ga",
        "colab": {
          "base_uri": "https://localhost:8080/",
          "height": 51
        },
        "outputId": "98b2c6e3-8807-4fbe-f6cd-ffd1b536f9e8"
      },
      "source": [
        "from sklearn.metrics import confusion_matrix\n",
        "confusion_matrix(y_train_5, y_train_pred)"
      ],
      "execution_count": null,
      "outputs": [
        {
          "output_type": "execute_result",
          "data": {
            "text/plain": [
              "array([[53265,  1314],\n",
              "       [  974,  4447]])"
            ]
          },
          "metadata": {
            "tags": []
          },
          "execution_count": 17
        }
      ]
    },
    {
      "cell_type": "code",
      "metadata": {
        "id": "XiW2SHaw01E8",
        "colab": {
          "base_uri": "https://localhost:8080/",
          "height": 296
        },
        "outputId": "158a92e0-6808-4e51-aedf-09fe6600909f"
      },
      "source": [
        "from sklearn.metrics import plot_confusion_matrix\n",
        "plot_confusion_matrix(sgd_clf,X_test,y_test_5)"
      ],
      "execution_count": null,
      "outputs": [
        {
          "output_type": "execute_result",
          "data": {
            "text/plain": [
              "<sklearn.metrics._plot.confusion_matrix.ConfusionMatrixDisplay at 0x7fc5a5dbe160>"
            ]
          },
          "metadata": {
            "tags": []
          },
          "execution_count": 21
        },
        {
          "output_type": "display_data",
          "data": {
            "image/png": "[encoded data removed]",
            "text/plain": [
              "<Figure size 432x288 with 2 Axes>"
            ]
          },
          "metadata": {
            "tags": [],
            "needs_background": "light"
          }
        }
      ]
    },
    {
      "cell_type": "markdown",
      "metadata": {
        "id": "vM30yndu2R47"
      },
      "source": [
        "Each row in a confusion matrix represents an actual class, while each column represents a predicted class. The first row of this matrix considers non-5 images (the negative class): 53,272 of them were\n",
        "correctly classified as non-5s (they are called true negatives), while the remaining 1,307 were wrongly\n",
        "classified as 5s (false positives). The second row considers the images of 5s (the positive class): 1,077\n",
        "were wrongly classified as non-5s (false negatives), while the remaining 4,344 were correctly classified\n",
        "as 5s (true positives). A perfect classifier would have only true positives and true negatives, so its\n",
        "confusion matrix would have nonzero values only on its main diagonal"
      ]
    },
    {
      "cell_type": "markdown",
      "metadata": {
        "id": "D86AObYU2c7I"
      },
      "source": [
        "## Precision & Recall\n",
        "\n",
        "![alt text](https://miro.medium.com/max/888/1*7J08ekAwupLBegeUI8muHA.png)\n",
        "\n",
        "A trivial way to have perfect precision is to make one single positive prediction and ensure it is correct\n",
        "(precision = 1/1 = 100%). This would not be very useful since the classifier would ignore all but one\n",
        "positive instance. So precision is typically used along with another metric named recall, also called\n",
        "sensitivity or true positive rate (TPR):\n",
        "\n"
      ]
    },
    {
      "cell_type": "code",
      "metadata": {
        "id": "qIwpQVCn3V4t",
        "colab": {
          "base_uri": "https://localhost:8080/",
          "height": 51
        },
        "outputId": "19009fec-f57f-46a0-c27c-86961644a52d"
      },
      "source": [
        "from sklearn.metrics import precision_score, recall_score\n",
        "print(precision_score(y_train_5, y_train_pred))\n",
        "print(recall_score(y_train_5, y_train_pred))"
      ],
      "execution_count": null,
      "outputs": [
        {
          "output_type": "stream",
          "text": [
            "0.7719145981600417\n",
            "0.8203283527024534\n"
          ],
          "name": "stdout"
        }
      ]
    },
    {
      "cell_type": "markdown",
      "metadata": {
        "id": "1Q2otKgr3qmq"
      },
      "source": [
        "Now your 5-detector does not look as shiny as it did when you looked at its accuracy. When it claims an\n",
        "image represents a 5, it is correct 91% of the time. Moreover, it only detects 63% of the 5s."
      ]
    },
    {
      "cell_type": "markdown",
      "metadata": {
        "id": "yRboHzOP4dXp"
      },
      "source": [
        "It is often convenient to combine precision and recall into a single metric called the F1 score, in\n",
        "particular if you need a simple way to compare two classifiers. The F1 score is the harmonic mean of\n",
        "precision and recall. Whereas the regular mean treats all values equally, the harmonic\n",
        "mean gives much more weight to low values. As a result, the classifier will only get a high F1 score if\n",
        "both recall and precision are high.\n",
        "![alt text](https://i.ibb.co/vJpc82j/Screenshot-63.png)"
      ]
    },
    {
      "cell_type": "code",
      "metadata": {
        "id": "4oh9dhFU3cTG",
        "colab": {
          "base_uri": "https://localhost:8080/",
          "height": 34
        },
        "outputId": "9341ffb9-cdd8-4cd2-8b70-f54802a7ebb9"
      },
      "source": [
        "from sklearn.metrics import f1_score\n",
        "f1_score(y_train_5, y_train_pred)"
      ],
      "execution_count": null,
      "outputs": [
        {
          "output_type": "execute_result",
          "data": {
            "text/plain": [
              "0.79538544088714"
            ]
          },
          "metadata": {
            "tags": []
          },
          "execution_count": 23
        }
      ]
    },
    {
      "cell_type": "markdown",
      "metadata": {
        "id": "1inxpbXm5RQt"
      },
      "source": [
        "The F1 score favors classifiers that have similar precision and recall. This is not always what you want:\n",
        "in some contexts you mostly care about precision, and in other contexts you really care about recall. \n",
        "\n",
        "For\n",
        "example, if you trained a classifier to detect videos that are safe for kids, you would probably prefer a\n",
        "classifier that rejects many good videos (low recall) but keeps only safe ones (high precision),  rather than\n",
        "a classifier that has a much higher recall but lets a few really bad videos show up in your product (in such\n",
        "cases, you may even want to add a human pipeline to check the classifier’s video selection)\n",
        "\n",
        " On the other\n",
        "hand, suppose you train a classifier to detect shoplifters on surveillance images: it is probably fine if your\n",
        "classifier has only 30% precision as long as it has 99% recall (sure, the security guards will get a few\n",
        "false alerts, but almost all shoplifters will get caught).\n",
        "\n",
        "Unfortunately, you can’t have it both ways: increasing precision reduces recall, and vice versa. This is\n",
        "called the precision/recall tradeoff."
      ]
    },
    {
      "cell_type": "markdown",
      "metadata": {
        "id": "c2ZAqiUm59uu"
      },
      "source": [
        "## Precision/Recall Tradeoff\n",
        "\n",
        "\n",
        "*   To understand this tradeoff, let’s look at how the SGDClassifier makes its classification decisions.\n",
        "*   For\n",
        "each instance, it computes a score based on a decision function, and if that score is greater than a\n",
        "threshold, it assigns the instance to the positive class, or else it assigns it to the negative class. \n",
        "\n",
        "\n",
        "Suppose\n",
        "the decision threshold is positioned at the central arrow (between the two 5s): you will find 4 true\n",
        "positives (actual 5s) on the right of that threshold, and one false positive (actually a 6). Therefore, with\n",
        "that threshold, the precision is 80% (4 out of 5). But out of 6 actual 5s, the classifier only detects 4, so the\n",
        "recall is 67% (4 out of 6). Now if you raise the threshold (move it to the arrow on the right), the false\n",
        "positive (the 6) becomes a true negative, thereby increasing precision (up to 100% in this case), but one\n",
        "true positive becomes a false negative, decreasing recall down to 50%. Conversely, lowering the\n",
        "threshold increases recall and reduces precision.\n",
        "![alt text](https://i.ibb.co/M75L9bZ/Screenshot-64.png)\n",
        "\n",
        "\n",
        "\n"
      ]
    },
    {
      "cell_type": "markdown",
      "metadata": {
        "id": "H4XZKzIC7bp0"
      },
      "source": [
        ""
      ]
    },
    {
      "cell_type": "markdown",
      "metadata": {
        "id": "BWxrRMAo7cbD"
      },
      "source": [
        "\n",
        "\n",
        "> Scikit-Learn does not let you set the threshold directly, but it does give you access to the decision scores\n",
        "that it uses to make predictions. Instead of calling the classifier’s predict() method, you can call its\n",
        "decision_function() method, which returns a score for each instance, and then make predictions based\n",
        "on those scores using any threshold you want:\n",
        "\n"
      ]
    },
    {
      "cell_type": "code",
      "metadata": {
        "id": "AyMbRhVj7m0B",
        "colab": {
          "base_uri": "https://localhost:8080/",
          "height": 34
        },
        "outputId": "cb845d5e-114e-4ef3-fd1c-dd6e1f60a2ef"
      },
      "source": [
        "y_scores = sgd_clf.decision_function([some_digit])\n",
        "y_scores\n",
        "threshold = 0\n",
        "y_some_digit_pred = (y_scores > threshold)\n",
        "y_some_digit_pred \n",
        "\n"
      ],
      "execution_count": null,
      "outputs": [
        {
          "output_type": "execute_result",
          "data": {
            "text/plain": [
              "array([False])"
            ]
          },
          "metadata": {
            "tags": []
          },
          "execution_count": 26
        }
      ]
    },
    {
      "cell_type": "code",
      "metadata": {
        "id": "QI294bt4tnEi",
        "colab": {
          "base_uri": "https://localhost:8080/",
          "height": 34
        },
        "outputId": "8a00999d-75e5-4073-82fa-1c37c1e8bf2b"
      },
      "source": [
        "threshold = 200000\n",
        "y_some_digit_pred = (y_scores > threshold)\n",
        "y_some_digit_pred"
      ],
      "execution_count": null,
      "outputs": [
        {
          "output_type": "execute_result",
          "data": {
            "text/plain": [
              "array([False])"
            ]
          },
          "metadata": {
            "tags": []
          },
          "execution_count": 25
        }
      ]
    },
    {
      "cell_type": "markdown",
      "metadata": {
        "id": "qBc1abJXzaeF"
      },
      "source": [
        "\n",
        "\n",
        "> This confirms that raising the threshold decreases recall. The image actually represents a 5, and the\n",
        "classifier detects it when the threshold is 0, but it misses it when the threshold is increased to 200,000. So how can you decide which threshold to use? For this you will first need to get the scores of all\n",
        "instances in the training set using the cross_val_predict() function again, but this time specifying that\n",
        "you want it to return decision scores instead of predictions\n",
        "\n"
      ]
    },
    {
      "cell_type": "code",
      "metadata": {
        "id": "0OlQDcb1zlNw"
      },
      "source": [
        "y_scores = cross_val_predict(sgd_clf, X_train, y_train_5, cv=3, method=\"decision_function\")"
      ],
      "execution_count": null,
      "outputs": []
    },
    {
      "cell_type": "markdown",
      "metadata": {
        "id": "VbRUzfOY04YO"
      },
      "source": [
        "Now with these scores you can compute precision and recall for all possible thresholds using the\n",
        "precision_recall_curve() function"
      ]
    },
    {
      "cell_type": "code",
      "metadata": {
        "id": "yBDAStRh06_2"
      },
      "source": [
        "from sklearn.metrics import precision_recall_curve\n",
        "precisions, recalls, thresholds = precision_recall_curve(y_train_5, y_scores)\n"
      ],
      "execution_count": null,
      "outputs": []
    },
    {
      "cell_type": "code",
      "metadata": {
        "id": "R6PnO1zI8bRc",
        "colab": {
          "base_uri": "https://localhost:8080/",
          "height": 34
        },
        "outputId": "895cf4c5-8d56-44e3-db17-c0544e7ebcd0"
      },
      "source": [
        "len(recalls)"
      ],
      "execution_count": null,
      "outputs": [
        {
          "output_type": "execute_result",
          "data": {
            "text/plain": [
              "59940"
            ]
          },
          "metadata": {
            "tags": []
          },
          "execution_count": 36
        }
      ]
    },
    {
      "cell_type": "code",
      "metadata": {
        "id": "AQmQiP0I8KVo",
        "colab": {
          "base_uri": "https://localhost:8080/",
          "height": 34
        },
        "outputId": "90e4ed99-4674-40f0-a29d-5723c567486d"
      },
      "source": [
        "len(precisions)"
      ],
      "execution_count": null,
      "outputs": [
        {
          "output_type": "execute_result",
          "data": {
            "text/plain": [
              "59940"
            ]
          },
          "metadata": {
            "tags": []
          },
          "execution_count": 30
        }
      ]
    },
    {
      "cell_type": "code",
      "metadata": {
        "id": "2hRCFpx76oLY",
        "colab": {
          "base_uri": "https://localhost:8080/",
          "height": 68
        },
        "outputId": "d8560614-3f40-4e98-abce-ea183fac4081"
      },
      "source": [
        "print(precisions, recalls, thresholds)"
      ],
      "execution_count": null,
      "outputs": [
        {
          "output_type": "stream",
          "text": [
            "[0.09044195 0.09042677 0.09042828 ... 1.         1.         1.        ] [1.00000000e+00 9.99815532e-01 9.99815532e-01 ... 3.68935621e-04\n",
            " 1.84467810e-04 0.00000000e+00] [-83206.94243224 -83155.66048121 -83083.62611851 ...  30872.66985172\n",
            "  32156.61643076  39563.5287643 ]\n"
          ],
          "name": "stdout"
        }
      ]
    },
    {
      "cell_type": "code",
      "metadata": {
        "id": "qwg-RE891GL0",
        "colab": {
          "base_uri": "https://localhost:8080/",
          "height": 283
        },
        "outputId": "3c1b8c46-e54d-4d71-85f3-ac3e2d07bf89"
      },
      "source": [
        "def plot_precision_recall_vs_threshold(precisions, recalls, thresholds):\n",
        "  plt.plot(thresholds, precisions[:-1], \"b--\", label=\"Precision\")\n",
        "  plt.plot(thresholds, recalls[:-1], \"g-\", label=\"Recall\")\n",
        "  plt.xlabel(\"Threshold\")\n",
        "  plt.legend(loc=\"upper left\")\n",
        "  plt.ylim([0, 1])\n",
        "plot_precision_recall_vs_threshold(precisions, recalls, thresholds)\n",
        "plt.show()\n"
      ],
      "execution_count": null,
      "outputs": [
        {
          "output_type": "display_data",
          "data": {
            "image/png": "[encoded data removed]",
            "text/plain": [
              "<Figure size 432x288 with 1 Axes>"
            ]
          },
          "metadata": {
            "tags": []
          }
        }
      ]
    },
    {
      "cell_type": "markdown",
      "metadata": {
        "id": "IupfsuSB2Utt"
      },
      "source": [
        "So let’s suppose you decide to aim for 90% precision. You look up the first plot (zooming in a bit) and\n",
        "find that you need to use a threshold of about 70,000. To make predictions (on the training set for now),\n",
        "instead of calling the classifier’s predict() method, you can just run this code:"
      ]
    },
    {
      "cell_type": "code",
      "metadata": {
        "id": "Y3TObhw_2YDX"
      },
      "source": [
        "y_train_pred_90 = (y_scores > 70000)"
      ],
      "execution_count": null,
      "outputs": []
    },
    {
      "cell_type": "markdown",
      "metadata": {
        "id": "TB403Uql2zea"
      },
      "source": [
        "## ROC Curve\n",
        "\n",
        "The receiver operating characteristic (ROC) curve is another common tool used with binary classifiers.\n",
        "It is very similar to the precision/recall curve, but instead of plotting precision versus recall, the ROC\n",
        "curve plots the true positive rate (another name for recall) against the false positive rate. The FPR is the\n",
        "ratio of negative instances that are incorrectly classified as positive. It is equal to one minus the true\n",
        "negative rate, which is the ratio of negative instances that are correctly classified as negative. The TNR\n",
        "is also called specificity. Hence the ROC curve plots sensitivity (recall) versus 1 – specificity.\n"
      ]
    },
    {
      "cell_type": "markdown",
      "metadata": {
        "id": "_JKZIWaF2_Ci"
      },
      "source": [
        "To plot the ROC curve, you first need to compute the TPR and FPR for various threshold values, using the\n",
        "roc_curve() function:"
      ]
    },
    {
      "cell_type": "code",
      "metadata": {
        "id": "0bp9CuXK3C5B"
      },
      "source": [
        "from sklearn.metrics import roc_curve\n",
        "fpr, tpr, thresholds = roc_curve(y_train_5, y_scores)"
      ],
      "execution_count": null,
      "outputs": []
    },
    {
      "cell_type": "code",
      "metadata": {
        "id": "GRvxt8a83HUr",
        "colab": {
          "base_uri": "https://localhost:8080/",
          "height": 283
        },
        "outputId": "51471956-bc41-4f4c-a270-8f0f4ab89c80"
      },
      "source": [
        "def plot_roc_curve(fpr, tpr, label=None):\n",
        "  plt.plot(fpr, tpr, linewidth=2, label=label)\n",
        "  plt.plot([0, 1], [0, 1], 'k--')\n",
        "  plt.axis([0, 1, 0, 1])\n",
        "  plt.xlabel('False Positive Rate')\n",
        "  plt.ylabel('True Positive Rate')\n",
        "plot_roc_curve(fpr, tpr)\n",
        "plt.show()\n"
      ],
      "execution_count": null,
      "outputs": [
        {
          "output_type": "display_data",
          "data": {
            "image/png": "[encoded data removed]",
            "text/plain": [
              "<Figure size 432x288 with 1 Axes>"
            ]
          },
          "metadata": {
            "tags": []
          }
        }
      ]
    },
    {
      "cell_type": "markdown",
      "metadata": {
        "id": "OlaLnKeS5oYx"
      },
      "source": [
        "## AUC\n",
        "AUC stands for \"Area under the ROC Curve.\" That is, AUC measures the entire two-dimensional area underneath the entire ROC curve (think integral calculus) from (0,0) to (1,1).\n",
        "\n",
        "![alt text](https://developers.google.com/machine-learning/crash-course/images/AUC.svg)"
      ]
    },
    {
      "cell_type": "code",
      "metadata": {
        "id": "hlmSJbIk4JXl"
      },
      "source": [
        ""
      ],
      "execution_count": null,
      "outputs": []
    },
    {
      "cell_type": "markdown",
      "metadata": {
        "id": "Ruted6dc58_J"
      },
      "source": [
        "AUC provides an aggregate measure of performance across all possible classification thresholds. One way of interpreting AUC is as the probability that the model ranks a random positive example more highly than a random negative example. \n",
        "\n",
        "AUC represents the probability that a random positive (green) example is positioned to the right of a random negative (red) example.\n",
        "\n",
        "AUC ranges in value from 0 to 1. A model whose predictions are 100% wrong has an AUC of 0.0; one whose predictions are 100% correct has an AUC of 1.0.\n",
        "\n",
        "\n",
        "AUC is desirable for the following two reasons:\n",
        "\n",
        "AUC is scale-invariant. It measures how well predictions are ranked, rather than their absolute values.\n",
        "AUC is classification-threshold-invariant. It measures the quality of the model's predictions irrespective of what classification threshold is chosen.\n"
      ]
    },
    {
      "cell_type": "code",
      "metadata": {
        "id": "Jn_-wMJK6QcH",
        "colab": {
          "base_uri": "https://localhost:8080/",
          "height": 34
        },
        "outputId": "1bfb9f54-411c-4951-dc37-52c556cc2b67"
      },
      "source": [
        "from sklearn.metrics import roc_auc_score\n",
        "roc_auc_score(y_train_5, y_scores)\n"
      ],
      "execution_count": null,
      "outputs": [
        {
          "output_type": "execute_result",
          "data": {
            "text/plain": [
              "0.9613726791252181"
            ]
          },
          "metadata": {
            "tags": []
          },
          "execution_count": 30
        }
      ]
    },
    {
      "cell_type": "markdown",
      "metadata": {
        "id": "Je4XdJsZEGtB"
      },
      "source": [
        "## F1-Score"
      ]
    },
    {
      "cell_type": "code",
      "metadata": {
        "id": "KESsSvhgEKoS"
      },
      "source": [
        "from sklearn.metrics import f1_score\n",
        "y_true = [0, 1, 2, 0, 1, 2]\n",
        "y_true = [0, 1, 2, 0, 1, 2]\n",
        "f1_score(y_true, y_pred, average='macro') ## Calculate metrics for each label, and find their unweighted mean. This does not take label imbalance into account.\n",
        "f1_score(y_true, y_pred, average='micro') ## Calculate metrics globally by counting the total true positives, false negatives and false positives.\n",
        "f1_score(y_true, y_pred, average=None)\n",
        "f1_score(y_true, y_pred, zero_division=1)"
      ],
      "execution_count": null,
      "outputs": []
    },
    {
      "cell_type": "markdown",
      "metadata": {
        "id": "Dag9xF7cBZCU"
      },
      "source": [
        "## Multiclass Classification\n",
        "\n",
        "Whereas binary classifiers distinguish between two classes, multiclass classifiers (also called\n",
        "multinomial classifiers) can distinguish between more than two classes.\n",
        "\n",
        "Some algorithms (such as Random Forest classifiers or naive Bayes classifiers) are capable of handling\n",
        "multiple classes directly. Others (such as Support Vector Machine classifiers or Linear classifiers) are\n",
        "strictly binary classifiers. However, there are various strategies that you can use to perform multiclass\n",
        "classification using multiple binary classifiers.\n",
        "\n",
        "For example, one way to create a system that can classify the digit images into 10 classes (from 0 to 9) is\n",
        "to train 10 binary classifiers, one for each digit (a 0-detector, a 1-detector, a 2-detector, and so on). Then\n",
        "when you want to classify an image, you get the decision score from each classifier for that image and you\n",
        "select the class whose classifier outputs the highest score. This is called the one-versus-all (OvA)\n",
        "strategy (also called one-versus-the-rest).\n",
        "\n",
        "\n",
        "Another strategy is to train a binary classifier for every pair of digits: one to distinguish 0s and 1s,\n",
        "another to distinguish 0s and 2s, another for 1s and 2s, and so on. This is called the one-versus-one\n",
        "(OvO) strategy. If there are N classes, you need to train N × (N – 1) / 2 classifiers. For the MNIST\n",
        "problem, this means training 45 binary classifiers! When you want to classify an image, you have to run\n",
        "the image through all 45 classifiers and see which class wins the most duels. The main advantage of OvO\n",
        "is that each classifier only needs to be trained on the part of the training set for the two classes that it must\n",
        "distinguish.\n",
        "\n",
        "\n"
      ]
    },
    {
      "cell_type": "code",
      "metadata": {
        "id": "OUe5poLYB5iw",
        "colab": {
          "base_uri": "https://localhost:8080/",
          "height": 34
        },
        "outputId": "8f9bba69-bdb8-4347-e072-3da363249ee7"
      },
      "source": [
        "sgd_clf.fit(X_train, y_train)\n",
        "sgd_clf.predict([some_digit])"
      ],
      "execution_count": null,
      "outputs": [
        {
          "output_type": "execute_result",
          "data": {
            "text/plain": [
              "array(['9'], dtype='<U1')"
            ]
          },
          "metadata": {
            "tags": []
          },
          "execution_count": 31
        }
      ]
    },
    {
      "cell_type": "code",
      "metadata": {
        "id": "B11aYDVwCvft"
      },
      "source": [
        " np.argmax(some_digit_scores)\n",
        " sgd_clf.classes_\n",
        " sgd_clf.classes_[5]"
      ],
      "execution_count": null,
      "outputs": []
    },
    {
      "cell_type": "markdown",
      "metadata": {
        "id": "B5iMMLsMC56u"
      },
      "source": [
        "If you want to force ScikitLearn to use one-versus-one or one-versus-all, you can use the\n",
        "OneVsOneClassifier or OneVsRestClassifier classes. Simply create an instance and pass a binary\n",
        "classifier to its constructor. For example, this code creates a multiclass classifier using the OvO strategy,\n",
        "based on a SGDClassifier:\n"
      ]
    },
    {
      "cell_type": "code",
      "metadata": {
        "id": "nQAhgZgxC8aS",
        "colab": {
          "base_uri": "https://localhost:8080/",
          "height": 34
        },
        "outputId": "4b9e107d-de2b-4993-de2c-94b7cbb911b7"
      },
      "source": [
        "from sklearn.multiclass import OneVsOneClassifier\n",
        "ovo_clf = OneVsOneClassifier(SGDClassifier(random_state=42))\n",
        "ovo_clf.fit(X_train, y_train)\n",
        "ovo_clf.predict([some_digit])\n",
        "len(ovo_clf.estimators_)"
      ],
      "execution_count": null,
      "outputs": [
        {
          "output_type": "execute_result",
          "data": {
            "text/plain": [
              "45"
            ]
          },
          "metadata": {
            "tags": []
          },
          "execution_count": 32
        }
      ]
    },
    {
      "cell_type": "markdown",
      "metadata": {
        "id": "t-cdxX6oDP77"
      },
      "source": [
        "## Error Analysis\n"
      ]
    },
    {
      "cell_type": "code",
      "metadata": {
        "id": "nc2XBc6DEY87",
        "colab": {
          "base_uri": "https://localhost:8080/",
          "height": 187
        },
        "outputId": "e25304a0-a947-4f2e-dc7e-eac03e2bef0f"
      },
      "source": [
        "y_train_pred = cross_val_predict(sgd_clf, X_train, y_train, cv=3)\n",
        "conf_mx = confusion_matrix(y_train, y_train_pred)\n",
        "conf_mx\n"
      ],
      "execution_count": null,
      "outputs": [
        {
          "output_type": "execute_result",
          "data": {
            "text/plain": [
              "array([[5680,    0,   29,   15,    5,   44,   37,    2,   88,   23],\n",
              "       [   1, 6358,   43,   13,   16,   30,    8,    6,  236,   31],\n",
              "       [  70,   75, 4951,   97,   65,   65,   99,   52,  433,   51],\n",
              "       [  29,   30,  136, 4932,   21,  391,   21,   32,  386,  153],\n",
              "       [  20,   16,   23,   14, 4919,   36,   70,   10,  232,  502],\n",
              "       [  78,   30,   26,  151,  100, 4408,   96,   17,  396,  119],\n",
              "       [  35,   17,   67,    6,   53,  132, 5510,    3,   90,    5],\n",
              "       [  35,   26,   49,   91,  140,   28,    5, 5011,  244,  636],\n",
              "       [  34,   82,   43,   95,   45,  444,   33,    8, 4835,  232],\n",
              "       [  26,   19,   18,   83,  275,   84,    2,   77,  358, 5007]])"
            ]
          },
          "metadata": {
            "tags": []
          },
          "execution_count": 34
        }
      ]
    },
    {
      "cell_type": "markdown",
      "metadata": {
        "id": "qmZNgVXzF7gr"
      },
      "source": [
        "## Multilabel Classification\n",
        "\n",
        "Until now each instance has always been assigned to just one class. In some cases you may want your\n",
        "classifier to output multiple classes for each instance. For example, consider a face-recognition\n",
        "classifier: what should it do if it recognizes several people on the same picture? Of course it should\n",
        "attach one label per person it recognizes. Say the classifier has been trained to recognize three faces,\n",
        "Alice, Bob, and Charlie; then when it is shown a picture of Alice and Charlie, it should output [1, 0, 1]\n",
        "(meaning “Alice yes, Bob no, Charlie yes”). Such a classification system that outputs multiple binary\n",
        "labels is called a multilabel classification system."
      ]
    },
    {
      "cell_type": "code",
      "metadata": {
        "id": "hqyjiwGfHIRi",
        "colab": {
          "base_uri": "https://localhost:8080/",
          "height": 102
        },
        "outputId": "cd988009-dc9e-437c-d0b3-2befbc9f1baf"
      },
      "source": [
        "y_train_int = y_train.astype('int32')\n"
      ],
      "execution_count": null,
      "outputs": [
        {
          "output_type": "execute_result",
          "data": {
            "text/plain": [
              "array([7, 8, 1, 4, 1, 1, 7, 4, 0, 8, 7, 1, 0, 4, 2, 1, 0, 4, 9, 0, 3, 9,\n",
              "       9, 0, 3, 6, 6, 3, 0, 1, 0, 4, 4, 7, 3, 2, 3, 0, 2, 3, 7, 6, 8, 9,\n",
              "       6, 5, 5, 0, 4, 7, 2, 4, 5, 4, 5, 6, 2, 7, 9, 3, 2, 2, 1, 7, 4, 2,\n",
              "       6, 0, 9, 6, 9, 1, 7, 8, 6, 2, 1, 3, 2, 7, 1, 1, 5, 4, 8, 9, 8, 3,\n",
              "       8, 7, 7, 7, 9, 6, 9, 4, 0, 3, 9, 8], dtype=int32)"
            ]
          },
          "metadata": {
            "tags": []
          },
          "execution_count": 41
        }
      ]
    },
    {
      "cell_type": "code",
      "metadata": {
        "id": "Yy9A6EiyGDDU",
        "colab": {
          "base_uri": "https://localhost:8080/",
          "height": 214
        },
        "outputId": "1a38bea0-dda1-4f32-bc72-9c4fbfe1cb86"
      },
      "source": [
        "from sklearn.neighbors import KNeighborsClassifier\n",
        "y_train_large = (y_train_int >= 7 )\n",
        "y_train_even = (y_train_int % 2 != 1)\n",
        "y_multilabel = np.c_[y_train_large, y_train_even]\n"
      ],
      "execution_count": null,
      "outputs": [
        {
          "output_type": "error",
          "ename": "NameError",
          "evalue": "ignored",
          "traceback": [
            "\u001b[0;31m---------------------------------------------------------------------------\u001b[0m",
            "\u001b[0;31mNameError\u001b[0m                                 Traceback (most recent call last)",
            "\u001b[0;32m<ipython-input-1-f4e9553cfaf3>\u001b[0m in \u001b[0;36m<module>\u001b[0;34m()\u001b[0m\n\u001b[1;32m      1\u001b[0m \u001b[0;32mfrom\u001b[0m \u001b[0msklearn\u001b[0m\u001b[0;34m.\u001b[0m\u001b[0mneighbors\u001b[0m \u001b[0;32mimport\u001b[0m \u001b[0mKNeighborsClassifier\u001b[0m\u001b[0;34m\u001b[0m\u001b[0;34m\u001b[0m\u001b[0m\n\u001b[0;32m----> 2\u001b[0;31m \u001b[0my_train_large\u001b[0m \u001b[0;34m=\u001b[0m \u001b[0;34m(\u001b[0m\u001b[0my_train_int\u001b[0m \u001b[0;34m>=\u001b[0m \u001b[0;36m7\u001b[0m \u001b[0;34m)\u001b[0m\u001b[0;34m\u001b[0m\u001b[0;34m\u001b[0m\u001b[0m\n\u001b[0m\u001b[1;32m      3\u001b[0m \u001b[0my_train_even\u001b[0m \u001b[0;34m=\u001b[0m \u001b[0;34m(\u001b[0m\u001b[0my_train_int\u001b[0m \u001b[0;34m%\u001b[0m \u001b[0;36m2\u001b[0m \u001b[0;34m!=\u001b[0m \u001b[0;36m1\u001b[0m\u001b[0;34m)\u001b[0m\u001b[0;34m\u001b[0m\u001b[0;34m\u001b[0m\u001b[0m\n\u001b[1;32m      4\u001b[0m \u001b[0my_multilabel\u001b[0m \u001b[0;34m=\u001b[0m \u001b[0mnp\u001b[0m\u001b[0;34m.\u001b[0m\u001b[0mc_\u001b[0m\u001b[0;34m[\u001b[0m\u001b[0my_train_large\u001b[0m\u001b[0;34m,\u001b[0m \u001b[0my_train_even\u001b[0m\u001b[0;34m]\u001b[0m\u001b[0;34m\u001b[0m\u001b[0;34m\u001b[0m\u001b[0m\n",
            "\u001b[0;31mNameError\u001b[0m: name 'y_train_int' is not defined"
          ]
        }
      ]
    },
    {
      "cell_type": "code",
      "metadata": {
        "id": "U6cFvATwKVwK",
        "colab": {
          "base_uri": "https://localhost:8080/",
          "height": 102
        },
        "outputId": "42dee43e-7a0f-4ee4-f9ac-07a986ebc2a0"
      },
      "source": [
        "!pip install scikit-multilearn\n"
      ],
      "execution_count": null,
      "outputs": [
        {
          "output_type": "stream",
          "text": [
            "Collecting scikit-multilearn\n",
            "\u001b[?25l  Downloading https://files.pythonhosted.org/packages/bb/1f/e6ff649c72a1cdf2c7a1d31eb21705110ce1c5d3e7e26b2cc300e1637272/scikit_multilearn-0.2.0-py3-none-any.whl (89kB)\n",
            "\r\u001b[K     |███▊                            | 10kB 1.7MB/s eta 0:00:01\r\u001b[K     |███████▍                        | 20kB 2.1MB/s eta 0:00:01\r\u001b[K     |███████████                     | 30kB 3.1MB/s eta 0:00:01\r\u001b[K     |██████████████▊                 | 40kB 3.0MB/s eta 0:00:01\r\u001b[K     |██████████████████▍             | 51kB 3.1MB/s eta 0:00:01\r\u001b[K     |██████████████████████          | 61kB 3.7MB/s eta 0:00:01\r\u001b[K     |█████████████████████████▊      | 71kB 3.8MB/s eta 0:00:01\r\u001b[K     |█████████████████████████████▍  | 81kB 3.9MB/s eta 0:00:01\r\u001b[K     |████████████████████████████████| 92kB 2.3MB/s \n",
            "\u001b[?25hInstalling collected packages: scikit-multilearn\n",
            "Successfully installed scikit-multilearn-0.2.0\n"
          ],
          "name": "stdout"
        }
      ]
    },
    {
      "cell_type": "code",
      "metadata": {
        "id": "g4h2jRDiG7y6",
        "colab": {
          "base_uri": "https://localhost:8080/",
          "height": 306
        },
        "outputId": "9d11cbaf-2ebc-479e-cac6-17db38d24e75"
      },
      "source": [
        "from skmultilearn.problem_transform import LabelPowerset\n",
        "from sklearn.linear_model import LogisticRegression\n",
        "\n",
        "# initialize label powerset multi-label classifier\n",
        "classifier = LabelPowerset(LogisticRegression())\n",
        "classifier.fit(X_train, y_multilabel)"
      ],
      "execution_count": null,
      "outputs": [
        {
          "output_type": "stream",
          "text": [
            "/usr/local/lib/python3.6/dist-packages/sklearn/linear_model/_logistic.py:940: ConvergenceWarning: lbfgs failed to converge (status=1):\n",
            "STOP: TOTAL NO. of ITERATIONS REACHED LIMIT.\n",
            "\n",
            "Increase the number of iterations (max_iter) or scale the data as shown in:\n",
            "    https://scikit-learn.org/stable/modules/preprocessing.html\n",
            "Please also refer to the documentation for alternative solver options:\n",
            "    https://scikit-learn.org/stable/modules/linear_model.html#logistic-regression\n",
            "  extra_warning_msg=_LOGISTIC_SOLVER_CONVERGENCE_MSG)\n"
          ],
          "name": "stderr"
        },
        {
          "output_type": "execute_result",
          "data": {
            "text/plain": [
              "LabelPowerset(classifier=LogisticRegression(C=1.0, class_weight=None,\n",
              "                                            dual=False, fit_intercept=True,\n",
              "                                            intercept_scaling=1, l1_ratio=None,\n",
              "                                            max_iter=100, multi_class='auto',\n",
              "                                            n_jobs=None, penalty='l2',\n",
              "                                            random_state=None, solver='lbfgs',\n",
              "                                            tol=0.0001, verbose=0,\n",
              "                                            warm_start=False),\n",
              "              require_dense=[True, True])"
            ]
          },
          "metadata": {
            "tags": []
          },
          "execution_count": 83
        }
      ]
    },
    {
      "cell_type": "code",
      "metadata": {
        "id": "narpexQyGIIf",
        "colab": {
          "base_uri": "https://localhost:8080/",
          "height": 68
        },
        "outputId": "2176a9c4-ba80-471c-e2d1-434945e74318"
      },
      "source": [
        "knn_clf = KNeighborsClassifier(n_neighbors=2)\n",
        "knn_clf.fit(X_train, y_multilabel)"
      ],
      "execution_count": null,
      "outputs": [
        {
          "output_type": "execute_result",
          "data": {
            "text/plain": [
              "KNeighborsClassifier(algorithm='auto', leaf_size=30, metric='minkowski',\n",
              "                     metric_params=None, n_jobs=None, n_neighbors=2, p=2,\n",
              "                     weights='uniform')"
            ]
          },
          "metadata": {
            "tags": []
          },
          "execution_count": 87
        }
      ]
    },
    {
      "cell_type": "code",
      "metadata": {
        "id": "h1AS1O8YK2ML",
        "colab": {
          "base_uri": "https://localhost:8080/",
          "height": 51
        },
        "outputId": "5780c5da-49e3-4e24-f7f4-8f823a581ded"
      },
      "source": [
        "classifier.predict([some_digit])"
      ],
      "execution_count": null,
      "outputs": [
        {
          "output_type": "execute_result",
          "data": {
            "text/plain": [
              "<1x2 sparse matrix of type '<class 'numpy.int64'>'\n",
              "\twith 0 stored elements in List of Lists format>"
            ]
          },
          "metadata": {
            "tags": []
          },
          "execution_count": 84
        }
      ]
    },
    {
      "cell_type": "code",
      "metadata": {
        "id": "aaVeSeYuGql9",
        "colab": {
          "base_uri": "https://localhost:8080/",
          "height": 34
        },
        "outputId": "5661b70d-a4d2-40c9-cfaa-500f81b15a39"
      },
      "source": [
        "knn_clf.predict([some_digit])"
      ],
      "execution_count": null,
      "outputs": [
        {
          "output_type": "execute_result",
          "data": {
            "text/plain": [
              "array([[False, False]])"
            ]
          },
          "metadata": {
            "tags": []
          },
          "execution_count": 88
        }
      ]
    },
    {
      "cell_type": "code",
      "metadata": {
        "id": "IrMcR1IsNXnr"
      },
      "source": [
        "y_train_knn_pred = cross_val_predict(knn_clf, X_train, y_train, cv=3)\n",
        "f1_score(y_train, y_train_knn_pred, average=\"macro\")"
      ],
      "execution_count": null,
      "outputs": []
    },
    {
      "cell_type": "markdown",
      "metadata": {
        "id": "OhifiXdKPFAe"
      },
      "source": [
        "This assumes that all labels are equally important, which may not be the case. In particular, if you have\n",
        "many more pictures of Alice than of Bob or Charlie, you may want to give more weight to the classifier’s\n",
        "score on pictures of Alice. One simple option is to give each label a weight equal to its support (i.e., the\n",
        "number of instances with that target label). To do this, simply set average=\"weighted\" in the preceding\n",
        "code."
      ]
    },
    {
      "cell_type": "markdown",
      "metadata": {
        "id": "7_3L38M0PcP3"
      },
      "source": [
        "## Multioutput Classification\n",
        "\n",
        "The last type of classification task we are going to discuss here is called multioutput-multiclass\n",
        "classification (or simply multioutput classification). It is simply a generalization of multilabel\n",
        "classification where each label can be multiclass (i.e., it can have more than two possible values).\n",
        "\n",
        "To illustrate this, let’s build a system that removes noise from images. It will take as input a noisy digit\n",
        "image, and it will (hopefully) output a clean digit image, represented as an array of pixel intensities, just\n",
        "like the MNIST images. Notice that the classifier’s output is multilabel (one label per pixel) and each\n",
        "label can have multiple values (pixel intensity ranges from 0 to 255). It is thus an example of a multioutput\n",
        "classification system.\n",
        "\n",
        "The line between classification and regression is sometimes blurry, such as in this example. Arguably, predicting pixel intensity is\n",
        "more akin to regression than to classification. Moreover, multioutput systems are not limited to classification tasks; you could even\n",
        "have a system that outputs multiple labels per instance, including both class labels and value labels."
      ]
    },
    {
      "cell_type": "markdown",
      "metadata": {
        "id": "LydSh1krQs-K"
      },
      "source": [
        "The line between classification and regression is sometimes blurry, such as in this example. Arguably, predicting pixel intensity is\n",
        "more akin to regression than to classification. Moreover, multioutput systems are not limited to classification tasks; you could even\n",
        "have a system that outputs multiple labels per instance, including both class labels and value labels."
      ]
    },
    {
      "cell_type": "code",
      "metadata": {
        "id": "vGvNoSUqPF-9",
        "colab": {
          "base_uri": "https://localhost:8080/",
          "height": 231
        },
        "outputId": "8853c974-aed0-44bf-83c4-1d759c883e93"
      },
      "source": [
        "noise = np.random.randint(0, 100, (len(X_train), 784))\n",
        "X_train_mod = X_train + noise\n",
        "noise = np.random.randint(0, 100, (len(X_test), 784))\n",
        "X_test_mod = X_test + noise\n",
        "y_train_mod = X_train\n",
        "y_test_mod = X_test"
      ],
      "execution_count": null,
      "outputs": [
        {
          "output_type": "error",
          "ename": "NameError",
          "evalue": "ignored",
          "traceback": [
            "\u001b[0;31m---------------------------------------------------------------------------\u001b[0m",
            "\u001b[0;31mNameError\u001b[0m                                 Traceback (most recent call last)",
            "\u001b[0;32m<ipython-input-2-4fa3e5f50607>\u001b[0m in \u001b[0;36m<module>\u001b[0;34m()\u001b[0m\n\u001b[0;32m----> 1\u001b[0;31m \u001b[0mnoise\u001b[0m \u001b[0;34m=\u001b[0m \u001b[0mnp\u001b[0m\u001b[0;34m.\u001b[0m\u001b[0mrandom\u001b[0m\u001b[0;34m.\u001b[0m\u001b[0mrandint\u001b[0m\u001b[0;34m(\u001b[0m\u001b[0;36m0\u001b[0m\u001b[0;34m,\u001b[0m \u001b[0;36m100\u001b[0m\u001b[0;34m,\u001b[0m \u001b[0;34m(\u001b[0m\u001b[0mlen\u001b[0m\u001b[0;34m(\u001b[0m\u001b[0mX_train\u001b[0m\u001b[0;34m)\u001b[0m\u001b[0;34m,\u001b[0m \u001b[0;36m784\u001b[0m\u001b[0;34m)\u001b[0m\u001b[0;34m)\u001b[0m\u001b[0;34m\u001b[0m\u001b[0;34m\u001b[0m\u001b[0m\n\u001b[0m\u001b[1;32m      2\u001b[0m \u001b[0mX_train_mod\u001b[0m \u001b[0;34m=\u001b[0m \u001b[0mX_train\u001b[0m \u001b[0;34m+\u001b[0m \u001b[0mnoise\u001b[0m\u001b[0;34m\u001b[0m\u001b[0;34m\u001b[0m\u001b[0m\n\u001b[1;32m      3\u001b[0m \u001b[0mnoise\u001b[0m \u001b[0;34m=\u001b[0m \u001b[0mnp\u001b[0m\u001b[0;34m.\u001b[0m\u001b[0mrandom\u001b[0m\u001b[0;34m.\u001b[0m\u001b[0mrandint\u001b[0m\u001b[0;34m(\u001b[0m\u001b[0;36m0\u001b[0m\u001b[0;34m,\u001b[0m \u001b[0;36m100\u001b[0m\u001b[0;34m,\u001b[0m \u001b[0;34m(\u001b[0m\u001b[0mlen\u001b[0m\u001b[0;34m(\u001b[0m\u001b[0mX_test\u001b[0m\u001b[0;34m)\u001b[0m\u001b[0;34m,\u001b[0m \u001b[0;36m784\u001b[0m\u001b[0;34m)\u001b[0m\u001b[0;34m)\u001b[0m\u001b[0;34m\u001b[0m\u001b[0;34m\u001b[0m\u001b[0m\n\u001b[1;32m      4\u001b[0m \u001b[0mX_test_mod\u001b[0m \u001b[0;34m=\u001b[0m \u001b[0mX_test\u001b[0m \u001b[0;34m+\u001b[0m \u001b[0mnoise\u001b[0m\u001b[0;34m\u001b[0m\u001b[0;34m\u001b[0m\u001b[0m\n\u001b[1;32m      5\u001b[0m \u001b[0my_train_mod\u001b[0m \u001b[0;34m=\u001b[0m \u001b[0mX_train\u001b[0m\u001b[0;34m\u001b[0m\u001b[0;34m\u001b[0m\u001b[0m\n",
            "\u001b[0;31mNameError\u001b[0m: name 'np' is not defined"
          ]
        }
      ]
    },
    {
      "cell_type": "markdown",
      "metadata": {
        "id": "Auc1vw9IRUoI"
      },
      "source": [
        "![alt text](https://i.ibb.co/SrbKkwp/Screenshot-65.png)"
      ]
    },
    {
      "cell_type": "code",
      "metadata": {
        "id": "la0GT9qwQy2r"
      },
      "source": [
        "knn_clf.fit(X_train_mod, y_train_mod)\n",
        "clean_digit = knn_clf.predict([X_test_mod[some_index]])\n",
        "plot_digit(clean_digit)\n"
      ],
      "execution_count": null,
      "outputs": []
    }
  ]
}